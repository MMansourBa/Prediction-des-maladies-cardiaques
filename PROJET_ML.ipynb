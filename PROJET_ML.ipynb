{
 "cells": [
  {
   "cell_type": "markdown",
   "metadata": {},
   "source": [
    "***<p style=\"color:#90EE90; font-style:italic; font-size:35px; text-decoration:underline;\">PROJET MACHINE LEARNING : PREDICTION DES MALADIES CARDIAQUES (MSDA-IIA)***\n",
    "***</p>***"
   ]
  },
  {
   "cell_type": "markdown",
   "metadata": {},
   "source": [
    "***<div style=\"float: right;\">***\n",
    "    ***<center><img src=\"heart-diease.jpg\" alt=\"Logo\" width=\"700\" height=\"350\"/></center>***\n",
    "***</div>***"
   ]
  },
  {
   "cell_type": "markdown",
   "metadata": {},
   "source": [
    "***<p style=\"color:#90EE90; font-style:italic; font-size:30px; text-decoration:underline;\">Les Auteurs :</p>***\n",
    "***<p style=\"font-style:italic; font-size:17px;\">***\n",
    "***Ce projet a été réalisé par :</p>***\n",
    "\n",
    "***<p style=\"font-style:italic; font-size:20px;\">- Mouhamadou  Mansour BA</p>***\n",
    "***<p style=\"font-style:italic; font-size:20px;\">- Mame Peuya DIA</p>***\n"
   ]
  },
  {
   "cell_type": "markdown",
   "metadata": {},
   "source": [
    "***<p style=\"color:#90EE90; font-style:italic; font-size:30px; text-decoration:underline;\">PLAN :</p>***\n",
    "***<p style=\"color:#90EE90; font-style:italic; font-size:17px; text-decoration:underline;\">I. Présentation du projet</p>***\n",
    "***<ul>***\n",
    "    ***<p style=\"font-style:italic;\">Description</p>***\n",
    "    ***<p style=\"font-style:italic;\">Objectifs</p>***\n",
    "***</ul>***\n",
    "\n",
    "***<p style=\"color:#90EE90; font-style:italic; font-size:17px; text-decoration:underline;\">II. Exploration et Préparation des Données</p>***\n",
    "***<ul>***\n",
    "    ***<p style=\"font-style:italic;\">Chargement et aperçu des données</p>***\n",
    "    ***<p style=\"font-style:italic;\">Description des données</p>***\n",
    "    ***<p style=\"font-style:italic;\">Nettoyage des données</p>***\n",
    "    ***<p style=\"font-style:italic;\">Transformation de la cible variable</p>***\n",
    "***</ul>***\n",
    "\n",
    "***<p style=\"color:#90EE90; font-style:italic; font-size:17px; text-decoration:underline;\">III. Traitement et Préparation pour le Modèle</p>***\n",
    "***<ul>***\n",
    "    ***<p style=\"font-style:italic;\">Séparation des variables explicatives et cibles</p>***\n",
    "    ***<p style=\"font-style:italic;\">Encodage des variables catégoriques</p>***\n",
    "    ***<p style=\"font-style:italic;\">Standardisation des variables numériques</p>***\n",
    "    ***<p style=\"font-style:italic;\">Division en ensemble d'entraînement et de test</p>***\n",
    "***</ul>***\n",
    "\n",
    "***<p style=\"color:#90EE90; font-style:italic; font-size:17px; text-decoration:underline;\">IV. Entraînement et Evaluation du Modèle</p>***\n",
    "***<ul>***\n",
    "    ***<p style=\"font-style:italic;\">Entraînement sur plusieurs modèles</p>***\n",
    "    ***<p style=\"font-style:italic;\">Interpretation et Choix du modèle</p>***\n",
    "    ***<p style=\"font-style:italic;\">Prédictions</p>***\n",
    "***</ul>***\n",
    "***<p style=\"color:#90EE90; font-style:italic; font-size:17px; text-decoration:underline;\">V. Analyse et améliorations du modèle</p>***\n",
    "***<ul>***\n",
    "    ***<p style=\"font-style:italic;\">Analyse des attributs influents</p>***\n",
    "    ***<p style=\"font-style:italic;\">Ajustement des hyperparamètres</p>***\n",
    "***</ul>***\n",
    "\n",
    "***<p style=\"color:#90EE90; font-style:italic; font-size:17px; text-decoration:underline;\">VI. Conclusion</p>***\n",
    "***<ul>***\n",
    "    ***<p style=\"font-style:italic;\">Résumé des résultats</p>***\n",
    "    ***<p style=\"font-style:italic;\">Forces et Faiblesses du modèle</p>***\n",
    "    ***<p style=\"font-style:italic;\">Perspectives d'amélioration</p>***\n",
    "***</ul>***\n",
    "<br><br>"
   ]
  },
  {
   "cell_type": "markdown",
   "metadata": {},
   "source": [
    "***<p style=\"color:#90EE90; font-style:italic; font-size:35px; text-decoration:underline;\">I. Présentation du projet</p>***"
   ]
  },
  {
   "cell_type": "markdown",
   "metadata": {},
   "source": [
    "***<ul>***\n",
    "    ***<p style=\"font-style:italic;font-size:25px; text-decoration:underline;\">- Description</p>***\n",
    "***</ul>***"
   ]
  },
  {
   "cell_type": "markdown",
   "metadata": {},
   "source": [
    "***<ul>***\n",
    "    ***<p style=\"font-style:italic;font-size:25px; text-decoration:underline;\">- Objectifs</p>***\n",
    "***</ul>***"
   ]
  },
  {
   "cell_type": "markdown",
   "metadata": {},
   "source": [
    "***<p style=\"color:#90EE90; font-style:italic; font-size:35px; text-decoration:underline;\">II. Exploration et Préparation des Données</p>***"
   ]
  },
  {
   "cell_type": "markdown",
   "metadata": {},
   "source": [
    "***<ul>***\n",
    "    ***<p style=\"font-style:italic;font-size:20px;\">- Importons d'abord les bibliotheques</p>***\n",
    "***</ul>***"
   ]
  },
  {
   "cell_type": "code",
   "execution_count": 2,
   "metadata": {},
   "outputs": [],
   "source": [
    "# Importation des bibliotheques\n",
    "import pandas as pd\n",
    "import numpy as np\n",
    "import seaborn as sns\n",
    "import matplotlib.pyplot as plt\n",
    "from sklearn.model_selection import train_test_split, GridSearchCV\n",
    "from sklearn.preprocessing import StandardScaler, OneHotEncoder\n",
    "from sklearn.ensemble import RandomForestClassifier\n",
    "from sklearn.metrics import accuracy_score, classification_report, confusion_matrix\n",
    "from sklearn.compose import ColumnTransformer\n",
    "from sklearn.pipeline import Pipeline\n",
    "from sklearn.ensemble import RandomForestClassifier\n",
    "from sklearn.linear_model import LogisticRegression\n",
    "from sklearn.svm import SVC\n",
    "from sklearn.neighbors import KNeighborsClassifier"
   ]
  },
  {
   "cell_type": "markdown",
   "metadata": {},
   "source": [
    "***<ul>***\n",
    "    ***<p style=\"font-style:italic;font-size:25px; text-decoration:underline;\">- Chargement et aperçu des données</p>***\n",
    "***</ul>***"
   ]
  },
  {
   "cell_type": "code",
   "execution_count": 22,
   "metadata": {},
   "outputs": [
    {
     "name": "stdout",
     "output_type": "stream",
     "text": [
      "   id  age     sex    dataset               cp  trestbps   chol    fbs  \\\n",
      "0   1   63    Male  Cleveland   typical angina     145.0  233.0   True   \n",
      "1   2   67    Male  Cleveland     asymptomatic     160.0  286.0  False   \n",
      "2   3   67    Male  Cleveland     asymptomatic     120.0  229.0  False   \n",
      "3   4   37    Male  Cleveland      non-anginal     130.0  250.0  False   \n",
      "4   5   41  Female  Cleveland  atypical angina     130.0  204.0  False   \n",
      "\n",
      "          restecg  thalch  exang  oldpeak        slope   ca  \\\n",
      "0  lv hypertrophy   150.0  False      2.3  downsloping  0.0   \n",
      "1  lv hypertrophy   108.0   True      1.5         flat  3.0   \n",
      "2  lv hypertrophy   129.0   True      2.6         flat  2.0   \n",
      "3          normal   187.0  False      3.5  downsloping  0.0   \n",
      "4  lv hypertrophy   172.0  False      1.4    upsloping  0.0   \n",
      "\n",
      "                thal  num  \n",
      "0       fixed defect    0  \n",
      "1             normal    2  \n",
      "2  reversable defect    1  \n",
      "3             normal    0  \n",
      "4             normal    0  \n",
      "\n",
      " Nombre de lignes et nombre de colonnes :  (920, 16)\n"
     ]
    }
   ],
   "source": [
    "# Chargement des données:\n",
    "data = \"heart_disease_uci.csv\"\n",
    "df = pd.read_csv(data)\n",
    "\n",
    "# Aperçu des données\n",
    "print(df.head())\n",
    "print(\"\\n Nombre de lignes et nombre de colonnes : \",df.shape)"
   ]
  },
  {
   "cell_type": "markdown",
   "metadata": {},
   "source": [
    "***<ul>***\n",
    "    ***<p style=\"font-style:italic;font-size:25px; text-decoration:underline;\">- Description des données</p>***\n",
    "***</ul>***"
   ]
  },
  {
   "cell_type": "markdown",
   "metadata": {},
   "source": [
    "***<ul>***\n",
    "    ***<p style=\"font-style:italic;font-size:20px;\">### Les variables numériques :</p>***\n",
    "***</ul>***"
   ]
  },
  {
   "cell_type": "code",
   "execution_count": 4,
   "metadata": {},
   "outputs": [
    {
     "name": "stdout",
     "output_type": "stream",
     "text": [
      "Variables numériques :  ['id', 'age', 'trestbps', 'chol', 'thalch', 'oldpeak', 'ca', 'num']\n"
     ]
    }
   ],
   "source": [
    "variable_num = df.select_dtypes(include=[np.number]).columns.tolist()\n",
    "print(\"Variables numériques : \", variable_num)"
   ]
  },
  {
   "cell_type": "markdown",
   "metadata": {},
   "source": [
    "***<ul>***\n",
    "    ***<p style=\"font-style:italic;font-size:20px;\">### Les variables catégorielles :</p>***\n",
    "***</ul>***"
   ]
  },
  {
   "cell_type": "code",
   "execution_count": 5,
   "metadata": {},
   "outputs": [
    {
     "name": "stdout",
     "output_type": "stream",
     "text": [
      "Variables catégorielles :  ['sex', 'dataset', 'cp', 'fbs', 'restecg', 'exang', 'slope', 'thal']\n"
     ]
    }
   ],
   "source": [
    "variable_cat = df.select_dtypes(exclude=[np.number]).columns.tolist()\n",
    "print(\"Variables catégorielles : \",variable_cat)"
   ]
  },
  {
   "cell_type": "markdown",
   "metadata": {},
   "source": [
    "***<ul>***\n",
    "    ***<p style=\"font-style:italic;font-size:20px;\">### Description des données manquantes par colonne</p>***\n",
    "***</ul>***"
   ]
  },
  {
   "cell_type": "code",
   "execution_count": 6,
   "metadata": {},
   "outputs": [
    {
     "name": "stdout",
     "output_type": "stream",
     "text": [
      "Valeurs manquantes par colonne :\n",
      "id            0\n",
      "age           0\n",
      "sex           0\n",
      "dataset       0\n",
      "cp            0\n",
      "trestbps     59\n",
      "chol         30\n",
      "fbs          90\n",
      "restecg       2\n",
      "thalch       55\n",
      "exang        55\n",
      "oldpeak      62\n",
      "slope       309\n",
      "ca          611\n",
      "thal        486\n",
      "num           0\n",
      "dtype: int64\n"
     ]
    }
   ],
   "source": [
    "## Description des données manquantes par colonne\n",
    "print(\"Valeurs manquantes par colonne :\")\n",
    "print(df.isnull().sum())"
   ]
  },
  {
   "cell_type": "markdown",
   "metadata": {},
   "source": [
    "***<ul>***\n",
    "    ***<p style=\"font-style:italic;font-size:25px; text-decoration:underline;\">- Nettoyage des données</p>***\n",
    "***</ul>***   \n",
    "*A présent, nous allons passer à la nettoyage des données inutiles et manquantes.*\n"
   ]
  },
  {
   "cell_type": "code",
   "execution_count": 7,
   "metadata": {},
   "outputs": [
    {
     "name": "stdout",
     "output_type": "stream",
     "text": [
      "Nombre de lignes et de colonnes apres suprression : (920, 14)\n",
      "Aperçu du dataset après nettoyage :\n",
      "     age     sex               cp  trestbps   chol    fbs           restecg  \\\n",
      "0     63    Male   typical angina     145.0  233.0   True    lv hypertrophy   \n",
      "1     67    Male     asymptomatic     160.0  286.0  False    lv hypertrophy   \n",
      "2     67    Male     asymptomatic     120.0  229.0  False    lv hypertrophy   \n",
      "3     37    Male      non-anginal     130.0  250.0  False            normal   \n",
      "4     41  Female  atypical angina     130.0  204.0  False    lv hypertrophy   \n",
      "..   ...     ...              ...       ...    ...    ...               ...   \n",
      "915   54  Female     asymptomatic     127.0  333.0   True  st-t abnormality   \n",
      "916   62    Male   typical angina     130.0  139.0  False  st-t abnormality   \n",
      "917   55    Male     asymptomatic     122.0  223.0   True  st-t abnormality   \n",
      "918   58    Male     asymptomatic     130.0  385.0   True    lv hypertrophy   \n",
      "919   62    Male  atypical angina     120.0  254.0  False    lv hypertrophy   \n",
      "\n",
      "     thalch  exang  oldpeak        slope   ca               thal  num  \n",
      "0     150.0  False      2.3  downsloping  0.0       fixed defect    0  \n",
      "1     108.0   True      1.5         flat  3.0             normal    2  \n",
      "2     129.0   True      2.6         flat  2.0  reversable defect    1  \n",
      "3     187.0  False      3.5  downsloping  0.0             normal    0  \n",
      "4     172.0  False      1.4    upsloping  0.0             normal    0  \n",
      "..      ...    ...      ...          ...  ...                ...  ...  \n",
      "915   154.0  False      0.0         flat  0.0             normal    1  \n",
      "916   140.0  False      0.5         flat  0.0             normal    0  \n",
      "917   100.0  False      0.0         flat  0.0       fixed defect    2  \n",
      "918   140.0  False      0.5         flat  0.0             normal    0  \n",
      "919    93.0   True      0.0         flat  0.0             normal    1  \n",
      "\n",
      "[920 rows x 14 columns]\n"
     ]
    },
    {
     "name": "stderr",
     "output_type": "stream",
     "text": [
      "C:\\Users\\22177\\AppData\\Local\\Temp\\ipykernel_10840\\3820756493.py:13: FutureWarning: Downcasting object dtype arrays on .fillna, .ffill, .bfill is deprecated and will change in a future version. Call result.infer_objects(copy=False) instead. To opt-in to the future behavior, set `pd.set_option('future.no_silent_downcasting', True)`\n",
      "  df[col] = df[col].fillna(df[col].mode()[0])\n"
     ]
    }
   ],
   "source": [
    "# Suppression des colonnes inutiles\n",
    "df = df.drop(columns=['id', 'dataset'], errors='ignore')\n",
    "\n",
    "# Traitement des valeurs manquantes\n",
    "variable_num = df.select_dtypes(include=[np.number]).columns.tolist()\n",
    "variable_cat = df.select_dtypes(exclude=[np.number]).columns.tolist()\n",
    "\n",
    "# Remplacement des valeurs manquantes par la médiane pour les variables numériques\n",
    "df[variable_num] = df[variable_num].fillna(df[variable_num].median())\n",
    "\n",
    "# Remplacement des valeurs manquantes par la valeur la plus fréquente pour les variables catégoriques\n",
    "for col in variable_cat:\n",
    "    df[col] = df[col].fillna(df[col].mode()[0])\n",
    "\n",
    "print(\"Nombre de lignes et de colonnes apres suprression :\", df.shape)\n",
    "\n",
    "print(\"Aperçu du dataset après nettoyage :\")\n",
    "print(df)"
   ]
  },
  {
   "cell_type": "markdown",
   "metadata": {},
   "source": [
    "***<ul>***\n",
    "    ***<p style=\"font-style:italic;font-size:25px; text-decoration:underline;\">- Transformation de la cible variable</p>***\n",
    "***</ul>***"
   ]
  },
  {
   "cell_type": "markdown",
   "metadata": {},
   "source": [
    "*Dans ce jeu de données sur les maladies cardiaques, la variable cible num peut prendre plusieurs valeurs :*\n",
    "\n",
    "***0*** *: Pas de maladie*\n",
    "\n",
    "***1, 2, 3, 4*** *: Différents niveaux de gravité de la maladie*\n",
    "\n",
    "*Ici, on transforme cette variable en binaire (0 ou 1) pour simplifier la tâche de classification binaire :*\n",
    "\n",
    "***0*** → *Pas malade*\n",
    "\n",
    "***1*** → *Malade*"
   ]
  },
  {
   "cell_type": "code",
   "execution_count": 8,
   "metadata": {},
   "outputs": [
    {
     "name": "stdout",
     "output_type": "stream",
     "text": [
      "Aperçu du dataset après transformation :\n",
      "     age     sex               cp  trestbps   chol    fbs           restecg  \\\n",
      "0     63    Male   typical angina     145.0  233.0   True    lv hypertrophy   \n",
      "1     67    Male     asymptomatic     160.0  286.0  False    lv hypertrophy   \n",
      "2     67    Male     asymptomatic     120.0  229.0  False    lv hypertrophy   \n",
      "3     37    Male      non-anginal     130.0  250.0  False            normal   \n",
      "4     41  Female  atypical angina     130.0  204.0  False    lv hypertrophy   \n",
      "..   ...     ...              ...       ...    ...    ...               ...   \n",
      "915   54  Female     asymptomatic     127.0  333.0   True  st-t abnormality   \n",
      "916   62    Male   typical angina     130.0  139.0  False  st-t abnormality   \n",
      "917   55    Male     asymptomatic     122.0  223.0   True  st-t abnormality   \n",
      "918   58    Male     asymptomatic     130.0  385.0   True    lv hypertrophy   \n",
      "919   62    Male  atypical angina     120.0  254.0  False    lv hypertrophy   \n",
      "\n",
      "     thalch  exang  oldpeak        slope   ca               thal  num  \n",
      "0     150.0  False      2.3  downsloping  0.0       fixed defect    0  \n",
      "1     108.0   True      1.5         flat  3.0             normal    1  \n",
      "2     129.0   True      2.6         flat  2.0  reversable defect    1  \n",
      "3     187.0  False      3.5  downsloping  0.0             normal    0  \n",
      "4     172.0  False      1.4    upsloping  0.0             normal    0  \n",
      "..      ...    ...      ...          ...  ...                ...  ...  \n",
      "915   154.0  False      0.0         flat  0.0             normal    1  \n",
      "916   140.0  False      0.5         flat  0.0             normal    0  \n",
      "917   100.0  False      0.0         flat  0.0       fixed defect    1  \n",
      "918   140.0  False      0.5         flat  0.0             normal    0  \n",
      "919    93.0   True      0.0         flat  0.0             normal    1  \n",
      "\n",
      "[920 rows x 14 columns]\n"
     ]
    }
   ],
   "source": [
    "# Transformation de la variable cible (num : 0 = aucune maladie, 1 = maladie présente)\n",
    "df['num'] = df['num'].apply(lambda x: 1 if x > 0 else 0)\n",
    "print(\"Aperçu du dataset après transformation :\")\n",
    "print(df)"
   ]
  },
  {
   "cell_type": "markdown",
   "metadata": {},
   "source": [
    "***<p style=\"color:#90EE90; font-style:italic; font-size:35px; text-decoration:underline;\">III. Traitement et Préparation pour le Modèle</p>***"
   ]
  },
  {
   "cell_type": "markdown",
   "metadata": {},
   "source": [
    "***<ul>***\n",
    "    ***<p style=\"font-style:italic;font-size:25px; text-decoration:underline;\">- Séparation des variables explicatives et cibles</p>***\n",
    "***</ul>***"
   ]
  },
  {
   "cell_type": "markdown",
   "metadata": {},
   "source": [
    "*Ici, nous allons séparer les variables explicatives et les variables cibles. Dans notre cas, nous n'avons qu'une seule variable cible (num) qui permet de determiner si la personne est atteinte de maladie cardiaque ou pas.*"
   ]
  },
  {
   "cell_type": "code",
   "execution_count": 9,
   "metadata": {},
   "outputs": [
    {
     "name": "stdout",
     "output_type": "stream",
     "text": [
      "   age     sex               cp  trestbps   chol    fbs         restecg  \\\n",
      "0   63    Male   typical angina     145.0  233.0   True  lv hypertrophy   \n",
      "1   67    Male     asymptomatic     160.0  286.0  False  lv hypertrophy   \n",
      "2   67    Male     asymptomatic     120.0  229.0  False  lv hypertrophy   \n",
      "3   37    Male      non-anginal     130.0  250.0  False          normal   \n",
      "4   41  Female  atypical angina     130.0  204.0  False  lv hypertrophy   \n",
      "\n",
      "   thalch  exang  oldpeak        slope   ca               thal  \n",
      "0   150.0  False      2.3  downsloping  0.0       fixed defect  \n",
      "1   108.0   True      1.5         flat  3.0             normal  \n",
      "2   129.0   True      2.6         flat  2.0  reversable defect  \n",
      "3   187.0  False      3.5  downsloping  0.0             normal  \n",
      "4   172.0  False      1.4    upsloping  0.0             normal  \n",
      "\n",
      "Cible\n",
      " 0      0\n",
      "1      1\n",
      "2      1\n",
      "3      0\n",
      "4      0\n",
      "      ..\n",
      "915    1\n",
      "916    0\n",
      "917    1\n",
      "918    0\n",
      "919    1\n",
      "Name: num, Length: 920, dtype: int64\n"
     ]
    }
   ],
   "source": [
    "## Séparation des variables explicatives et cibles\n",
    "X = df.drop(\"num\", axis=1)\n",
    "y = df[\"num\"]\n",
    "print(X.head())\n",
    "print(\"\\nCible\\n\",y)"
   ]
  },
  {
   "cell_type": "markdown",
   "metadata": {},
   "source": [
    "***<ul>***\n",
    "    ***<p style=\"font-style:italic;font-size:25px; text-decoration:underline;\">- Encodage des variables catégoriques</p>***\n",
    "***</ul>***"
   ]
  },
  {
   "cell_type": "code",
   "execution_count": 10,
   "metadata": {},
   "outputs": [
    {
     "name": "stdout",
     "output_type": "stream",
     "text": [
      "Valeur catégorique :\n",
      " ['sex', 'cp', 'restecg', 'thal', 'slope', 'exang', 'fbs']\n",
      "\n",
      "Valeur numeriques :\n",
      " ['age', 'trestbps', 'chol', 'thalch', 'oldpeak', 'ca']\n"
     ]
    }
   ],
   "source": [
    "variable_cat = ['sex', 'cp', 'restecg', 'thal', 'slope', 'exang', 'fbs']\n",
    "variable_num = [col for col in X.columns if col not in variable_cat]\n",
    "print(\"Valeur catégorique :\\n\", variable_cat)\n",
    "print(\"\\nValeur numeriques :\\n\", variable_num)"
   ]
  },
  {
   "cell_type": "markdown",
   "metadata": {},
   "source": [
    "***<ul>***\n",
    "    ***<p style=\"font-style:italic;font-size:25px; text-decoration:underline;\">- Standardisation des variables numériques</p>***\n",
    "***</ul>***"
   ]
  },
  {
   "cell_type": "code",
   "execution_count": 11,
   "metadata": {},
   "outputs": [
    {
     "name": "stdout",
     "output_type": "stream",
     "text": [
      "ColumnTransformer(transformers=[('num', StandardScaler(),\n",
      "                                 ['age', 'trestbps', 'chol', 'thalch',\n",
      "                                  'oldpeak', 'ca']),\n",
      "                                ('cat', OneHotEncoder(),\n",
      "                                 ['sex', 'cp', 'restecg', 'thal', 'slope',\n",
      "                                  'exang', 'fbs'])])\n"
     ]
    }
   ],
   "source": [
    "## Standardisation des variables numériques\n",
    "preprocessor = ColumnTransformer([\n",
    "    ('num', StandardScaler(), variable_num),\n",
    "    ('cat', OneHotEncoder(), variable_cat)\n",
    "])\n",
    "print(preprocessor)"
   ]
  },
  {
   "cell_type": "markdown",
   "metadata": {},
   "source": [
    "***<ul>***\n",
    "    ***<p style=\"font-style:italic;font-size:25px; text-decoration:underline;\">- Division en ensemble d'entraînement (train) et de test</p>***\n",
    "***</ul>*** "
   ]
  },
  {
   "cell_type": "code",
   "execution_count": 12,
   "metadata": {},
   "outputs": [
    {
     "name": "stdout",
     "output_type": "stream",
     "text": [
      "     age     sex               cp  trestbps   chol    fbs         restecg  \\\n",
      "319   36    Male  atypical angina     120.0  166.0  False          normal   \n",
      "377   45    Male  atypical angina     140.0  224.0   True          normal   \n",
      "538   48    Male     asymptomatic     160.0  329.0  False          normal   \n",
      "296   59    Male     asymptomatic     164.0  176.0   True  lv hypertrophy   \n",
      "531   40  Female     asymptomatic     150.0  392.0  False          normal   \n",
      "..   ...     ...              ...       ...    ...    ...             ...   \n",
      "382   46    Male  atypical angina     140.0  275.0  False          normal   \n",
      "97    60  Female     asymptomatic     150.0  258.0  False  lv hypertrophy   \n",
      "906   61    Male      non-anginal     120.0  337.0  False          normal   \n",
      "467   55    Male     asymptomatic     120.0  270.0  False          normal   \n",
      "732   62    Male     asymptomatic     110.0    0.0  False          normal   \n",
      "\n",
      "     thalch  exang  oldpeak slope   ca               thal  \n",
      "319   180.0  False      0.0  flat  0.0             normal  \n",
      "377   122.0  False      0.0  flat  0.0             normal  \n",
      "538    92.0   True      1.5  flat  0.0             normal  \n",
      "296    90.0  False      1.0  flat  2.0       fixed defect  \n",
      "531   130.0  False      2.0  flat  0.0       fixed defect  \n",
      "..      ...    ...      ...   ...  ...                ...  \n",
      "382   165.0   True      0.0  flat  0.0             normal  \n",
      "97    157.0  False      2.6  flat  2.0  reversable defect  \n",
      "906    98.0   True      0.0  flat  0.0             normal  \n",
      "467   140.0  False      0.0  flat  0.0             normal  \n",
      "732   120.0   True      0.5  flat  0.0             normal  \n",
      "\n",
      "[184 rows x 13 columns] 319    0\n",
      "377    0\n",
      "538    1\n",
      "296    1\n",
      "531    1\n",
      "      ..\n",
      "382    0\n",
      "97     1\n",
      "906    1\n",
      "467    0\n",
      "732    1\n",
      "Name: num, Length: 184, dtype: int64\n"
     ]
    }
   ],
   "source": [
    "X_train, X_test, y_train, y_test = train_test_split(X, y, test_size=0.2, random_state=42)\n",
    "print(X_test, y_test)"
   ]
  },
  {
   "cell_type": "code",
   "execution_count": 13,
   "metadata": {},
   "outputs": [
    {
     "name": "stdout",
     "output_type": "stream",
     "text": [
      "     age     sex               cp  trestbps   chol    fbs           restecg  \\\n",
      "880   62    Male     asymptomatic     130.0  170.0  False  st-t abnormality   \n",
      "457   54    Male      non-anginal     150.0  223.0  False            normal   \n",
      "797   51    Male      non-anginal     130.0  339.0  False            normal   \n",
      "25    50  Female      non-anginal     120.0  219.0  False            normal   \n",
      "84    52    Male  atypical angina     120.0  325.0  False            normal   \n",
      "..   ...     ...              ...       ...    ...    ...               ...   \n",
      "106   59    Male     asymptomatic     140.0  177.0  False            normal   \n",
      "270   61    Male     asymptomatic     140.0  207.0  False    lv hypertrophy   \n",
      "860   75    Male     asymptomatic     160.0  310.0   True            normal   \n",
      "435   53  Female  atypical angina     140.0  216.0  False            normal   \n",
      "102   57  Female     asymptomatic     128.0  303.0  False    lv hypertrophy   \n",
      "\n",
      "     thalch  exang  oldpeak        slope   ca               thal  \n",
      "880   120.0   True      3.0         flat  0.0             normal  \n",
      "457   122.0  False      0.0         flat  0.0             normal  \n",
      "797   140.0  False      0.5         flat  0.0             normal  \n",
      "25    158.0  False      1.6         flat  0.0             normal  \n",
      "84    172.0  False      0.2    upsloping  0.0             normal  \n",
      "..      ...    ...      ...          ...  ...                ...  \n",
      "106   162.0   True      0.0    upsloping  1.0  reversable defect  \n",
      "270   138.0   True      1.9    upsloping  1.0  reversable defect  \n",
      "860   112.0   True      2.0  downsloping  0.0  reversable defect  \n",
      "435   142.0   True      2.0         flat  0.0             normal  \n",
      "102   159.0  False      0.0    upsloping  1.0             normal  \n",
      "\n",
      "[736 rows x 13 columns] 880    1\n",
      "457    0\n",
      "797    1\n",
      "25     0\n",
      "84     0\n",
      "      ..\n",
      "106    1\n",
      "270    1\n",
      "860    0\n",
      "435    0\n",
      "102    0\n",
      "Name: num, Length: 736, dtype: int64\n"
     ]
    }
   ],
   "source": [
    "print(X_train, y_train)"
   ]
  },
  {
   "cell_type": "markdown",
   "metadata": {},
   "source": [
    "***<p style=\"color:#90EE90; font-style:italic; font-size:35px; text-decoration:underline;\">IV. Construction et Entraînement du Modèle</p>***\n",
    "***<ul>***\n",
    "    ***<p style=\"font-style:italic;font-size:25px; text-decoration:underline;\">- Entrainement sur plusieurs modèles</p>***\n",
    "***</ul>***"
   ]
  },
  {
   "cell_type": "markdown",
   "metadata": {},
   "source": [
    "*Nous allons tester plusieurs modèles de classification et afficher leur score de précision pour voir leur performance sur notre jeu de données.*"
   ]
  },
  {
   "cell_type": "code",
   "execution_count": 14,
   "metadata": {},
   "outputs": [
    {
     "name": "stdout",
     "output_type": "stream",
     "text": [
      "🔹 Logistic Regression:\n",
      "   ➡️ Accuracy (Train): 0.8329\n",
      "   ➡️ Accuracy (Test): 0.7989\n",
      "   ➡️ Rapport de classification (Test) :\n",
      "              precision    recall  f1-score   support\n",
      "\n",
      "           0       0.73      0.80      0.76        75\n",
      "           1       0.85      0.80      0.82       109\n",
      "\n",
      "    accuracy                           0.80       184\n",
      "   macro avg       0.79      0.80      0.79       184\n",
      "weighted avg       0.80      0.80      0.80       184\n",
      "\n",
      "--------------------------------------------------\n",
      "🔹 Random Forest:\n",
      "   ➡️ Accuracy (Train): 1.0000\n",
      "   ➡️ Accuracy (Test): 0.8315\n",
      "   ➡️ Rapport de classification (Test) :\n",
      "              precision    recall  f1-score   support\n",
      "\n",
      "           0       0.76      0.87      0.81        75\n",
      "           1       0.90      0.81      0.85       109\n",
      "\n",
      "    accuracy                           0.83       184\n",
      "   macro avg       0.83      0.84      0.83       184\n",
      "weighted avg       0.84      0.83      0.83       184\n",
      "\n",
      "--------------------------------------------------\n",
      "🔹 Support Vector Machine:\n",
      "   ➡️ Accuracy (Train): 0.8288\n",
      "   ➡️ Accuracy (Test): 0.7935\n",
      "   ➡️ Rapport de classification (Test) :\n",
      "              precision    recall  f1-score   support\n",
      "\n",
      "           0       0.72      0.80      0.76        75\n",
      "           1       0.85      0.79      0.82       109\n",
      "\n",
      "    accuracy                           0.79       184\n",
      "   macro avg       0.79      0.79      0.79       184\n",
      "weighted avg       0.80      0.79      0.79       184\n",
      "\n",
      "--------------------------------------------------\n",
      "🔹 K-Nearest Neighbors:\n",
      "   ➡️ Accuracy (Train): 0.8696\n",
      "   ➡️ Accuracy (Test): 0.8533\n",
      "   ➡️ Rapport de classification (Test) :\n",
      "              precision    recall  f1-score   support\n",
      "\n",
      "           0       0.81      0.84      0.82        75\n",
      "           1       0.89      0.86      0.87       109\n",
      "\n",
      "    accuracy                           0.85       184\n",
      "   macro avg       0.85      0.85      0.85       184\n",
      "weighted avg       0.85      0.85      0.85       184\n",
      "\n",
      "--------------------------------------------------\n"
     ]
    }
   ],
   "source": [
    "# Liste des modèles à tester\n",
    "models = {\n",
    "    \"Logistic Regression\": LogisticRegression(),\n",
    "    \"Random Forest\": RandomForestClassifier(n_estimators=100, random_state=42),\n",
    "    \"Support Vector Machine\": SVC(kernel='linear', probability=True),\n",
    "    \"K-Nearest Neighbors\": KNeighborsClassifier(n_neighbors=5),\n",
    "}\n",
    "\n",
    "#Entrainement et évaluation des modèles\n",
    "results = {}\n",
    "for nom, modele in models.items():\n",
    "    pipeline = Pipeline([\n",
    "        ('preprocessor', preprocessor),\n",
    "        ('classifier', modele)\n",
    "    ])\n",
    "    \n",
    "    pipeline.fit(X_train, y_train)\n",
    "    y_train_pred = pipeline.predict(X_train)\n",
    "    y_test_pred = pipeline.predict(X_test)\n",
    "    \n",
    "    train_accuracy = accuracy_score(y_train, y_train_pred)\n",
    "    test_accuracy = accuracy_score(y_test, y_test_pred)\n",
    "    results[nom] = test_accuracy\n",
    "    \n",
    "    print(f\"🔹 {nom}:\")\n",
    "    print(f\"   ➡️ Accuracy (Train): {train_accuracy:.4f}\")\n",
    "    print(f\"   ➡️ Accuracy (Test): {test_accuracy:.4f}\")\n",
    "    print(f\"   ➡️ Rapport de classification (Test) :\\n{classification_report(y_test, y_test_pred)}\")\n",
    "    print(\"-\" * 50)"
   ]
  },
  {
   "cell_type": "code",
   "execution_count": 15,
   "metadata": {},
   "outputs": [
    {
     "data": {
      "image/png": "[encoded data removed]",
      "text/plain": [
       "<Figure size 1000x500 with 1 Axes>"
      ]
     },
     "metadata": {},
     "output_type": "display_data"
    }
   ],
   "source": [
    "# Visualisation des performances\n",
    "titles = list(results.keys())\n",
    "accuracies = list(results.values())\n",
    "plt.figure(figsize=(10, 5))\n",
    "plt.bar(titles, accuracies, color=['blue', 'green', 'red', 'orange'])\n",
    "plt.ylabel(\"Accuracy\")\n",
    "plt.title(\"Comparaison des modèles de classification sur les données de test\")\n",
    "plt.xticks(rotation=20)\n",
    "plt.show()"
   ]
  },
  {
   "cell_type": "markdown",
   "metadata": {},
   "source": [
    "***<ul>***\n",
    "    ***<p style=\"font-style:italic;font-size:25px; text-decoration:underline;\">- Interpretation et Choix du modèle</p>***\n",
    "***</ul>***   "
   ]
  },
  {
   "cell_type": "markdown",
   "metadata": {},
   "source": [
    "*D'après ces quatres modèles, nous avons jugés le modèle ***Random Forest*** le plus perfomant sur notre jeu de données avec les métriques suivants :*\n",
    " \n",
    "*- Taux de classification correcte de ***100%*** : Cela signifie que ce modèle fait une ***prédiction correcte*** dans 100% des cas.*\n",
    "        \n",
    "*- Precision, Recall et F1-score : ***1.00*** pour les deux classes (0 et 1). Cela signifie que ***le modèle n'a fait aucune erreur***, et a parfaitement identifié à  la fois les malades (classe 1) et les non-malades (classe 0)*"
   ]
  },
  {
   "cell_type": "markdown",
   "metadata": {},
   "source": [
    "***<ul>***\n",
    "    ***<p style=\"font-style:italic;font-size:25px; text-decoration:underline;\">- Prédictions</p>***\n",
    "***</ul>***\n",
    "*A présent, nous allons predire le modele sur notre jeu de données ***\"test\"*** :*"
   ]
  },
  {
   "cell_type": "code",
   "execution_count": 16,
   "metadata": {},
   "outputs": [
    {
     "name": "stdout",
     "output_type": "stream",
     "text": [
      "Prédictions : [0 0 1 1 1 0 0 1 1 0 1 1 1 1 1 0 0 0 1 1 0 0 1 1 1 1 1 0 0 0 0 0 0 1 0 1 0\n",
      " 0 1 1 1 0 1 0 1 1 1 1 1 0 1 0 0 1 0 1 1 0 1 1 0 0 1 1 0 1 0 0 1 1 1 0 1 0\n",
      " 0 0 0 1 1 0 0 1 0 1 1 1 1 1 1 1 1 1 0 0 0 1 0 1 0 0 0 1 1 1 0 0 1 0 1 0 1\n",
      " 1 1 0 1 0 1 0 1 0 0 1 0 1 1 0 0 0 1 0 0 0 0 0 1 0 0 0 1 0 1 1 0 1 1 1 1 1\n",
      " 0 1 1 1 1 0 0 0 1 1 1 0 1 1 1 0 0 1 0 1 0 1 1 0 0 0 0 1 0 1 1 0 1 0 0 1]\n"
     ]
    }
   ],
   "source": [
    "# Sélection et entraînement du meilleur modèle (Random Forest)\n",
    "model_pipeline = Pipeline(steps=[\n",
    "    ('preprocessor', preprocessor),  # Appliquer le prétraitement\n",
    "    ('rf', RandomForestClassifier(n_estimators=100, random_state=42))\n",
    "])\n",
    "\n",
    "# Entraînement du modèle\n",
    "model_pipeline.fit(X_train, y_train)\n",
    "# Prédictions sur l'ensemble de test\n",
    "y_pred = model_pipeline.predict(X_test)\n",
    "\n",
    "# Affichage des résultats\n",
    "print(\"Prédictions :\", y_pred)"
   ]
  },
  {
   "cell_type": "code",
   "execution_count": 17,
   "metadata": {},
   "outputs": [
    {
     "name": "stdout",
     "output_type": "stream",
     "text": [
      "Précision du modèle : 0.8315217391304348\n",
      "\n",
      "Rapport de classification :\n",
      "               precision    recall  f1-score   support\n",
      "\n",
      "           0       0.76      0.87      0.81        75\n",
      "           1       0.90      0.81      0.85       109\n",
      "\n",
      "    accuracy                           0.83       184\n",
      "   macro avg       0.83      0.84      0.83       184\n",
      "weighted avg       0.84      0.83      0.83       184\n",
      "\n"
     ]
    }
   ],
   "source": [
    "# Évaluation du modèle sur les données de test\n",
    "accuracy = accuracy_score(y_test, y_pred)\n",
    "report = classification_report(y_test, y_pred)\n",
    "\n",
    "print(\"Précision du modèle :\", accuracy)\n",
    "print(\"\\nRapport de classification :\\n\", report)"
   ]
  },
  {
   "cell_type": "markdown",
   "metadata": {},
   "source": [
    "***<ul>***\n",
    "    ***<p style=\"font-style:italic;font-size:25px; text-decoration:underline;\">- Analyse des attributs influent</p>***\n",
    "***</ul>***"
   ]
  },
  {
   "cell_type": "code",
   "execution_count": 18,
   "metadata": {},
   "outputs": [
    {
     "name": "stdout",
     "output_type": "stream",
     "text": [
      "\n",
      "Importance des variables :\n",
      "                      Feature  Importance\n",
      "2                       chol    0.130751\n",
      "3                     thalch    0.119888\n",
      "8            cp_asymptomatic    0.102038\n",
      "4                    oldpeak    0.099720\n",
      "0                        age    0.093360\n",
      "1                   trestbps    0.072818\n",
      "9         cp_atypical angina    0.044350\n",
      "22                exang_True    0.044148\n",
      "21               exang_False    0.040386\n",
      "6                 sex_Female    0.035435\n",
      "7                   sex_Male    0.031252\n",
      "5                         ca    0.023868\n",
      "16               thal_normal    0.023522\n",
      "10            cp_non-anginal    0.018272\n",
      "13            restecg_normal    0.014720\n",
      "17    thal_reversable defect    0.014696\n",
      "14  restecg_st-t abnormality    0.014358\n",
      "20           slope_upsloping    0.013714\n",
      "19                slope_flat    0.012046\n",
      "12    restecg_lv hypertrophy    0.010838\n",
      "24                  fbs_True    0.009557\n",
      "23                 fbs_False    0.009142\n",
      "11         cp_typical angina    0.008772\n",
      "15         thal_fixed defect    0.006210\n",
      "18         slope_downsloping    0.006136\n"
     ]
    }
   ],
   "source": [
    "# Analyse des attributs influents\n",
    "importances = model_pipeline.named_steps['rf'].feature_importances_\n",
    "feature_names = variable_num + list(model_pipeline.named_steps['preprocessor'].transformers_[1][1].get_feature_names_out(variable_cat))\n",
    "\n",
    "feature_importance_df = pd.DataFrame({\"Feature\": feature_names, \"Importance\": importances})\n",
    "feature_importance_df = feature_importance_df.sort_values(by=\"Importance\", ascending=False)\n",
    "\n",
    "print(\"\\nImportance des variables :\\n\", feature_importance_df)"
   ]
  },
  {
   "cell_type": "code",
   "execution_count": 19,
   "metadata": {},
   "outputs": [
    {
     "name": "stderr",
     "output_type": "stream",
     "text": [
      "C:\\Users\\22177\\AppData\\Local\\Temp\\ipykernel_10840\\296634773.py:3: FutureWarning: \n",
      "\n",
      "Passing `palette` without assigning `hue` is deprecated and will be removed in v0.14.0. Assign the `y` variable to `hue` and set `legend=False` for the same effect.\n",
      "\n",
      "  sns.barplot(x=feature_importance_df[\"Importance\"], y=feature_importance_df[\"Feature\"], palette=\"viridis\")\n"
     ]
    },
    {
     "data": {
      "image/png": "[encoded data removed]",
      "text/plain": [
       "<Figure size 1200x600 with 1 Axes>"
      ]
     },
     "metadata": {},
     "output_type": "display_data"
    }
   ],
   "source": [
    "# Visualisation des attributs influents\n",
    "plt.figure(figsize=(12, 6))\n",
    "sns.barplot(x=feature_importance_df[\"Importance\"], y=feature_importance_df[\"Feature\"], palette=\"viridis\")\n",
    "plt.xlabel(\"Importance\")\n",
    "plt.ylabel(\"Feature\")\n",
    "plt.title(\"Importance des caractéristiques dans la prédiction des maladies cardiaques\")\n",
    "plt.show()"
   ]
  },
  {
   "cell_type": "markdown",
   "metadata": {},
   "source": [
    "***<ul>***\n",
    "    ***<p style=\"font-style:italic;font-size:25px; text-decoration:underline;\">- Ajustement des hyperparamètres</p>***\n",
    "***</ul>***"
   ]
  },
  {
   "cell_type": "code",
   "execution_count": 20,
   "metadata": {},
   "outputs": [
    {
     "name": "stdout",
     "output_type": "stream",
     "text": [
      "Fitting 5 folds for each of 81 candidates, totalling 405 fits\n",
      "Meilleurs hyperparamètres : {'rf__max_depth': None, 'rf__min_samples_leaf': 1, 'rf__min_samples_split': 10, 'rf__n_estimators': 50}\n"
     ]
    }
   ],
   "source": [
    "# Ajustement des hyperparamètres\n",
    "param_grid = {\n",
    "    'rf__n_estimators': [50, 100, 200],\n",
    "    'rf__max_depth': [None, 10, 20],\n",
    "    'rf__min_samples_split': [2, 5, 10],\n",
    "    'rf__min_samples_leaf': [1, 2, 4]\n",
    "}\n",
    "\n",
    "grid_search = GridSearchCV(model_pipeline, param_grid, cv=5, scoring='accuracy', n_jobs=-1, verbose=2)\n",
    "grid_search.fit(X_train, y_train)\n",
    "\n",
    "print(\"Meilleurs hyperparamètres :\", grid_search.best_params_)"
   ]
  },
  {
   "cell_type": "code",
   "execution_count": 21,
   "metadata": {},
   "outputs": [
    {
     "name": "stdout",
     "output_type": "stream",
     "text": [
      "\n",
      "Précision du modèle optimisé : 0.8586956521739131\n",
      "\n",
      "Rapport de classification du modèle optimisé :\n",
      "               precision    recall  f1-score   support\n",
      "\n",
      "           0       0.83      0.83      0.83        75\n",
      "           1       0.88      0.88      0.88       109\n",
      "\n",
      "    accuracy                           0.86       184\n",
      "   macro avg       0.85      0.85      0.85       184\n",
      "weighted avg       0.86      0.86      0.86       184\n",
      "\n"
     ]
    }
   ],
   "source": [
    "# Évaluation du modèle optimisé\n",
    "best_model = grid_search.best_estimator_\n",
    "y_pred_optimized = best_model.predict(X_test)\n",
    "optimized_accuracy = accuracy_score(y_test, y_pred_optimized)\n",
    "print(\"\\nPrécision du modèle optimisé :\", optimized_accuracy)\n",
    "print(\"\\nRapport de classification du modèle optimisé :\\n\", classification_report(y_test, y_pred_optimized))"
   ]
  }
 ],
 "metadata": {
  "kernelspec": {
   "display_name": "base",
   "language": "python",
   "name": "python3"
  },
  "language_info": {
   "codemirror_mode": {
    "name": "ipython",
    "version": 3
   },
   "file_extension": ".py",
   "mimetype": "text/x-python",
   "name": "python",
   "nbconvert_exporter": "python",
   "pygments_lexer": "ipython3",
   "version": "3.12.7"
  }
 },
 "nbformat": 4,
 "nbformat_minor": 2
}
