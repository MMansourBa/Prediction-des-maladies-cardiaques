{
 "cells": [
  {
   "cell_type": "markdown",
   "metadata": {},
   "source": [
    "***<p style=\"color:#90EE90; font-style:italic; font-size:35px; text-decoration:underline;\">PROJET MACHINE LEARNING : PREDICTION DES MALADIES CARDIAQUES (MSDA-IIA)***\n",
    "***</p>***"
   ]
  },
  {
   "cell_type": "markdown",
   "metadata": {},
   "source": [
    "<div style=\"float: right;\">\n",
    "    <center><img src=\"heart-diease.jpg\" alt=\"Logo\" width=\"700\" height=\"400\"/></center>\n",
    "</div>"
   ]
  },
  {
   "cell_type": "markdown",
   "metadata": {},
   "source": [
    "***<p style=\"color:#90EE90; font-style:italic; font-size:30px; text-decoration:underline;\">Les Auteurs :</p>***\n",
    "***<p style=\"font-style:italic; font-size:17px;\">***\n",
    "***Ce projet a été réalisé par :</p>***\n",
    "\n",
    "***<p style=\"font-style:italic; font-size:20px;\">- Mouhamadou  Mansour BA</p>***\n",
    "***<p style=\"font-style:italic; font-size:20px;\">- Mame Peuya DIA</p>***\n"
   ]
  },
  {
   "cell_type": "markdown",
   "metadata": {},
   "source": [
    "***<p style=\"color:#90EE90; font-style:italic; font-size:30px; text-decoration:underline;\">PLAN :</p>***\n",
    "***<p style=\"color:#90EE90; font-style:italic; font-size:17px; text-decoration:underline;\">I. Présentation du projet</p>***\n",
    "***<ul>***\n",
    "    ***<p style=\"font-style:italic;\">Description</p>***\n",
    "    ***<p style=\"font-style:italic;\">Objectifs</p>***\n",
    "***</ul>***\n",
    "\n",
    "***<p style=\"color:#90EE90; font-style:italic; font-size:17px; text-decoration:underline;\">II. Exploration et Préparation des Données</p>***\n",
    "***<ul>***\n",
    "    ***<p style=\"font-style:italic;\">Chargement et aperçu des données</p>***\n",
    "    ***<p style=\"font-style:italic;\">Description des données</p>***\n",
    "    ***<p style=\"font-style:italic;\">Nettoyage des données</p>***\n",
    "    ***<p style=\"font-style:italic;\">Transformation de la cible variable</p>***\n",
    "***</ul>***\n",
    "\n",
    "***<p style=\"color:#90EE90; font-style:italic; font-size:17px; text-decoration:underline;\">III. Traitement et Préparation pour le Modèle</p>***\n",
    "***<ul>***\n",
    "    ***<p style=\"font-style:italic;\">Séparation des variables explicatives et cibles</p>***\n",
    "    ***<p style=\"font-style:italic;\">Encodage des variables catégoriques</p>***\n",
    "    ***<p style=\"font-style:italic;\">Standardisation des variables numériques</p>***\n",
    "    ***<p style=\"font-style:italic;\">Division en ensemble d'entraînement et de test</p>***\n",
    "***</ul>***\n",
    "\n",
    "***<p style=\"color:#90EE90; font-style:italic; font-size:17px; text-decoration:underline;\">IV. Construction et Entraînement du Modèle</p>***\n",
    "***<ul>***\n",
    "    ***<p style=\"font-style:italic;\">Choix du modèle</p>***\n",
    "    ***<p style=\"font-style:italic;\">Entraînement du modèle</p>***\n",
    "    ***<p style=\"font-style:italic;\">Prédictions</p>***\n",
    "***</ul>***\n",
    "\n",
    "***<p style=\"color:#90EE90; font-style:italic; font-size:17px; text-decoration:underline;\">V. Evaluation du modèle</p>***\n",
    "***<ul>***\n",
    "    ***<p style=\"font-style:italic;\">Précision du modèle</p>***\n",
    "    ***<p style=\"font-style:italic;\">Rapport de classification</p>***\n",
    "    ***<p style=\"font-style:italic;\">Matrice de confusion</p>***\n",
    "***</ul>***\n",
    "\n",
    "***<p style=\"color:#90EE90; font-style:italic; font-size:17px; text-decoration:underline;\">VI. Analyse et améliorations</p>***\n",
    "***<ul>***\n",
    "    ***<p style=\"font-style:italic;\">Analyser les attributs influents</p>***\n",
    "    ***<p style=\"font-style:italic;\">Essai d'autres modèles</p>***\n",
    "    ***<p style=\"font-style:italic;\">Ajustement des hyperparamètres</p>***\n",
    "***</ul>***\n",
    "\n",
    "***<p style=\"color:#90EE90; font-style:italic; font-size:17px; text-decoration:underline;\">VII. Conclusion</p>***\n",
    "***<ul>***\n",
    "    ***<p style=\"font-style:italic;\">Résumé des résultats</p>***\n",
    "    ***<p style=\"font-style:italic;\">Forces et faiblesses du modèle</p>***\n",
    "    ***<p style=\"font-style:italic;\">Perspectives d'amélioration</p>***\n",
    "***</ul>***\n",
    "<br><br>"
   ]
  },
  {
   "cell_type": "markdown",
   "metadata": {},
   "source": [
    "***<p style=\"color:#90EE90; font-style:italic; font-size:35px; text-decoration:underline;\">I. Présentation du projet</p>***"
   ]
  },
  {
   "cell_type": "markdown",
   "metadata": {},
   "source": [
    "***<ul>***\n",
    "    ***<p style=\"font-style:italic;font-size:25px; text-decoration:underline;\">- Description</p>***\n",
    "***</ul>***"
   ]
  },
  {
   "cell_type": "markdown",
   "metadata": {},
   "source": []
  },
  {
   "cell_type": "markdown",
   "metadata": {},
   "source": [
    "***<ul>***\n",
    "    ***<p style=\"font-style:italic;font-size:25px; text-decoration:underline;\">- Objectifs</p>***\n",
    "***</ul>***"
   ]
  },
  {
   "cell_type": "markdown",
   "metadata": {},
   "source": []
  },
  {
   "cell_type": "markdown",
   "metadata": {},
   "source": [
    "***<p style=\"color:#90EE90; font-style:italic; font-size:35px; text-decoration:underline;\">II. Exploration et Préparation des Données</p>***"
   ]
  },
  {
   "cell_type": "markdown",
   "metadata": {},
   "source": [
    "***<ul>***\n",
    "    ***<p style=\"font-style:italic;font-size:20px;\">- Importons d'abord les bibliotheques</p>***\n",
    "***</ul>***"
   ]
  },
  {
   "cell_type": "code",
   "execution_count": 4,
   "metadata": {},
   "outputs": [
    {
     "name": "stdout",
     "output_type": "stream",
     "text": [
      "Requirement already satisfied: pandas in c:\\users\\22177\\anaconda3\\lib\\site-packages (2.2.2)\n",
      "Requirement already satisfied: numpy>=1.26.0 in c:\\users\\22177\\anaconda3\\lib\\site-packages (from pandas) (1.26.4)\n",
      "Requirement already satisfied: python-dateutil>=2.8.2 in c:\\users\\22177\\anaconda3\\lib\\site-packages (from pandas) (2.9.0.post0)\n",
      "Requirement already satisfied: pytz>=2020.1 in c:\\users\\22177\\anaconda3\\lib\\site-packages (from pandas) (2024.1)\n",
      "Requirement already satisfied: tzdata>=2022.7 in c:\\users\\22177\\anaconda3\\lib\\site-packages (from pandas) (2023.3)\n",
      "Requirement already satisfied: six>=1.5 in c:\\users\\22177\\anaconda3\\lib\\site-packages (from python-dateutil>=2.8.2->pandas) (1.16.0)\n"
     ]
    }
   ],
   "source": [
    "!pip install pandas\n"
   ]
  },
  {
   "cell_type": "code",
   "execution_count": 5,
   "metadata": {},
   "outputs": [
    {
     "ename": "ModuleNotFoundError",
     "evalue": "No module named 'pandas'",
     "output_type": "error",
     "traceback": [
      "\u001b[1;31m---------------------------------------------------------------------------\u001b[0m",
      "\u001b[1;31mModuleNotFoundError\u001b[0m                       Traceback (most recent call last)",
      "Cell \u001b[1;32mIn[5], line 2\u001b[0m\n\u001b[0;32m      1\u001b[0m \u001b[38;5;66;03m# Importation des bibliotheques\u001b[39;00m\n\u001b[1;32m----> 2\u001b[0m \u001b[38;5;28;01mimport\u001b[39;00m \u001b[38;5;21;01mpandas\u001b[39;00m \u001b[38;5;28;01mas\u001b[39;00m \u001b[38;5;21;01mpd\u001b[39;00m\n\u001b[0;32m      3\u001b[0m \u001b[38;5;28;01mimport\u001b[39;00m \u001b[38;5;21;01mnumpy\u001b[39;00m \u001b[38;5;28;01mas\u001b[39;00m \u001b[38;5;21;01mnp\u001b[39;00m\n\u001b[0;32m      4\u001b[0m \u001b[38;5;28;01mimport\u001b[39;00m \u001b[38;5;21;01mseaborn\u001b[39;00m \u001b[38;5;28;01mas\u001b[39;00m \u001b[38;5;21;01msns\u001b[39;00m\n",
      "\u001b[1;31mModuleNotFoundError\u001b[0m: No module named 'pandas'"
     ]
    }
   ],
   "source": [
    "# Importation des bibliotheques\n",
    "import pandas as pd\n",
    "import numpy as np\n",
    "import seaborn as sns\n",
    "import matplotlib.pyplot as plt\n",
    "from sklearn.model_selection import train_test_split\n",
    "from sklearn.preprocessing import StandardScaler, OneHotEncoder\n",
    "from sklearn.ensemble import RandomForestClassifier\n",
    "from sklearn.metrics import accuracy_score, classification_report, confusion_matrix\n",
    "from sklearn.compose import ColumnTransformer\n",
    "from sklearn.pipeline import Pipeline\n",
    "from sklearn.ensemble import RandomForestClassifier\n",
    "from sklearn.linear_model import LogisticRegression\n",
    "from sklearn.svm import SVC\n",
    "from sklearn.neighbors import KNeighborsClassifier"
   ]
  },
  {
   "cell_type": "markdown",
   "metadata": {},
   "source": [
    "***<ul>***\n",
    "    ***<p style=\"font-style:italic;font-size:25px; text-decoration:underline;\">- Chargement et aperçu des données</p>***\n",
    "***</ul>***"
   ]
  },
  {
   "cell_type": "code",
   "execution_count": 3,
   "metadata": {},
   "outputs": [
    {
     "ename": "ModuleNotFoundError",
     "evalue": "No module named 'pandas'",
     "output_type": "error",
     "traceback": [
      "\u001b[1;31m---------------------------------------------------------------------------\u001b[0m",
      "\u001b[1;31mModuleNotFoundError\u001b[0m                       Traceback (most recent call last)",
      "Cell \u001b[1;32mIn[3], line 2\u001b[0m\n\u001b[0;32m      1\u001b[0m \u001b[38;5;66;03m# Importation des bibliotheques\u001b[39;00m\n\u001b[1;32m----> 2\u001b[0m \u001b[38;5;28;01mimport\u001b[39;00m \u001b[38;5;21;01mpandas\u001b[39;00m \u001b[38;5;28;01mas\u001b[39;00m \u001b[38;5;21;01mpd\u001b[39;00m\n\u001b[0;32m      3\u001b[0m \u001b[38;5;28;01mimport\u001b[39;00m \u001b[38;5;21;01mnumpy\u001b[39;00m \u001b[38;5;28;01mas\u001b[39;00m \u001b[38;5;21;01mnp\u001b[39;00m\n\u001b[0;32m      4\u001b[0m \u001b[38;5;28;01mimport\u001b[39;00m \u001b[38;5;21;01mseaborn\u001b[39;00m \u001b[38;5;28;01mas\u001b[39;00m \u001b[38;5;21;01msns\u001b[39;00m\n",
      "\u001b[1;31mModuleNotFoundError\u001b[0m: No module named 'pandas'"
     ]
    }
   ],
   "source": [
    "# Importation des bibliotheques\n",
    "import pandas as pd\n",
    "import numpy as np\n",
    "import seaborn as sns\n",
    "import matplotlib.pyplot as plt\n",
    "from sklearn.model_selection import train_test_split\n",
    "from sklearn.preprocessing import StandardScaler, OneHotEncoder\n",
    "from sklearn.ensemble import RandomForestClassifier\n",
    "from sklearn.metrics import accuracy_score, classification_report, confusion_matrix\n",
    "from sklearn.compose import ColumnTransformer\n",
    "from sklearn.pipeline import Pipeline\n",
    "from sklearn.ensemble import RandomForestClassifier\n",
    "from sklearn.linear_model import LogisticRegression\n",
    "from sklearn.svm import SVC\n",
    "from sklearn.neighbors import KNeighborsClassifier\n",
    "# Charger les données\n",
    "data = \"heart_disease_uci.csv\"\n",
    "df = pd.read_csv(data)\n",
    "\n",
    "# Aperçu des données\n",
    "print(df.head())\n",
    "print(\"\\nNombre de lignes et nombre de colonnes : \",df.shape)"
   ]
  },
  {
   "cell_type": "markdown",
   "metadata": {},
   "source": [
    "***<ul>***\n",
    "    ***<p style=\"font-style:italic;font-size:25px; text-decoration:underline;\">- Description des données</p>***\n",
    "***</ul>***"
   ]
  },
  {
   "cell_type": "code",
   "execution_count": 3,
   "metadata": {},
   "outputs": [
    {
     "name": "stdout",
     "output_type": "stream",
     "text": [
      "Valeurs manquantes par colonne :\n",
      "id            0\n",
      "age           0\n",
      "sex           0\n",
      "dataset       0\n",
      "cp            0\n",
      "trestbps     59\n",
      "chol         30\n",
      "fbs          90\n",
      "restecg       2\n",
      "thalch       55\n",
      "exang        55\n",
      "oldpeak      62\n",
      "slope       309\n",
      "ca          611\n",
      "thal        486\n",
      "num           0\n",
      "dtype: int64\n"
     ]
    }
   ],
   "source": [
    "## Description des données\n",
    "# print(df.info())\n",
    "print(\"Valeurs manquantes par colonne :\")\n",
    "print(df.isnull().sum())"
   ]
  },
  {
   "cell_type": "markdown",
   "metadata": {},
   "source": [
    "***<ul>***\n",
    "    ***<p style=\"font-style:italic;font-size:25px; text-decoration:underline;\">- Nettoyage des données</p>***\n",
    "***</ul>***"
   ]
  },
  {
   "cell_type": "code",
   "execution_count": 4,
   "metadata": {},
   "outputs": [
    {
     "name": "stdout",
     "output_type": "stream",
     "text": [
      "Nombre de lignes et de colonnes apres suprression : (920, 14)\n",
      "Aperçu du dataset après nettoyage :\n",
      "     age     sex               cp  trestbps   chol    fbs           restecg  \\\n",
      "0     63    Male   typical angina     145.0  233.0   True    lv hypertrophy   \n",
      "1     67    Male     asymptomatic     160.0  286.0  False    lv hypertrophy   \n",
      "2     67    Male     asymptomatic     120.0  229.0  False    lv hypertrophy   \n",
      "3     37    Male      non-anginal     130.0  250.0  False            normal   \n",
      "4     41  Female  atypical angina     130.0  204.0  False    lv hypertrophy   \n",
      "..   ...     ...              ...       ...    ...    ...               ...   \n",
      "915   54  Female     asymptomatic     127.0  333.0   True  st-t abnormality   \n",
      "916   62    Male   typical angina     130.0  139.0  False  st-t abnormality   \n",
      "917   55    Male     asymptomatic     122.0  223.0   True  st-t abnormality   \n",
      "918   58    Male     asymptomatic     130.0  385.0   True    lv hypertrophy   \n",
      "919   62    Male  atypical angina     120.0  254.0  False    lv hypertrophy   \n",
      "\n",
      "     thalch  exang  oldpeak        slope   ca               thal  num  \n",
      "0     150.0  False      2.3  downsloping  0.0       fixed defect    0  \n",
      "1     108.0   True      1.5         flat  3.0             normal    2  \n",
      "2     129.0   True      2.6         flat  2.0  reversable defect    1  \n",
      "3     187.0  False      3.5  downsloping  0.0             normal    0  \n",
      "4     172.0  False      1.4    upsloping  0.0             normal    0  \n",
      "..      ...    ...      ...          ...  ...                ...  ...  \n",
      "915   154.0  False      0.0         flat  0.0             normal    1  \n",
      "916   140.0  False      0.5         flat  0.0             normal    0  \n",
      "917   100.0  False      0.0         flat  0.0       fixed defect    2  \n",
      "918   140.0  False      0.5         flat  0.0             normal    0  \n",
      "919    93.0   True      0.0         flat  0.0             normal    1  \n",
      "\n",
      "[920 rows x 14 columns]\n"
     ]
    },
    {
     "name": "stderr",
     "output_type": "stream",
     "text": [
      "C:\\Users\\22177\\AppData\\Local\\Temp\\ipykernel_8960\\4244721292.py:12: FutureWarning: Downcasting object dtype arrays on .fillna, .ffill, .bfill is deprecated and will change in a future version. Call result.infer_objects(copy=False) instead. To opt-in to the future behavior, set `pd.set_option('future.no_silent_downcasting', True)`\n",
      "  df[col] = df[col].fillna(df[col].mode()[0]).infer_objects(copy=False)\n"
     ]
    }
   ],
   "source": [
    "# Suppression des colonnes inutiles\n",
    "df = df.drop(columns=['id', 'dataset'], errors='ignore')\n",
    "# Traitement des valeurs manquantes\n",
    "numeric_features = df.select_dtypes(include=[np.number]).columns.tolist()\n",
    "categorical_features = df.select_dtypes(exclude=[np.number]).columns.tolist()\n",
    "\n",
    "# Remplacement des valeurs manquantes par la médiane pour les variables numériques\n",
    "df[numeric_features] = df[numeric_features].fillna(df[numeric_features].median())\n",
    "\n",
    "# Remplacement des valeurs manquantes par la valeur la plus fréquente pour les variables catégoriques\n",
    "for col in categorical_features:\n",
    "    df[col] = df[col].fillna(df[col].mode()[0]).infer_objects(copy=False)\n",
    "\n",
    "print(\"Nombre de lignes et de colonnes apres suprression :\", df.shape)\n",
    "\n",
    "print(\"Aperçu du dataset après nettoyage :\")\n",
    "print(df)"
   ]
  },
  {
   "cell_type": "markdown",
   "metadata": {},
   "source": [
    "***<ul>***\n",
    "    ***<p style=\"font-style:italic;font-size:25px; text-decoration:underline;\">- Transformation de la cible variable</p>***\n",
    "***</ul>***"
   ]
  },
  {
   "cell_type": "code",
   "execution_count": 5,
   "metadata": {},
   "outputs": [
    {
     "name": "stdout",
     "output_type": "stream",
     "text": [
      "Aperçu du dataset après transformation :\n",
      "     age     sex               cp  trestbps   chol    fbs           restecg  \\\n",
      "0     63    Male   typical angina     145.0  233.0   True    lv hypertrophy   \n",
      "1     67    Male     asymptomatic     160.0  286.0  False    lv hypertrophy   \n",
      "2     67    Male     asymptomatic     120.0  229.0  False    lv hypertrophy   \n",
      "3     37    Male      non-anginal     130.0  250.0  False            normal   \n",
      "4     41  Female  atypical angina     130.0  204.0  False    lv hypertrophy   \n",
      "..   ...     ...              ...       ...    ...    ...               ...   \n",
      "915   54  Female     asymptomatic     127.0  333.0   True  st-t abnormality   \n",
      "916   62    Male   typical angina     130.0  139.0  False  st-t abnormality   \n",
      "917   55    Male     asymptomatic     122.0  223.0   True  st-t abnormality   \n",
      "918   58    Male     asymptomatic     130.0  385.0   True    lv hypertrophy   \n",
      "919   62    Male  atypical angina     120.0  254.0  False    lv hypertrophy   \n",
      "\n",
      "     thalch  exang  oldpeak        slope   ca               thal  num  \n",
      "0     150.0  False      2.3  downsloping  0.0       fixed defect    0  \n",
      "1     108.0   True      1.5         flat  3.0             normal    1  \n",
      "2     129.0   True      2.6         flat  2.0  reversable defect    1  \n",
      "3     187.0  False      3.5  downsloping  0.0             normal    0  \n",
      "4     172.0  False      1.4    upsloping  0.0             normal    0  \n",
      "..      ...    ...      ...          ...  ...                ...  ...  \n",
      "915   154.0  False      0.0         flat  0.0             normal    1  \n",
      "916   140.0  False      0.5         flat  0.0             normal    0  \n",
      "917   100.0  False      0.0         flat  0.0       fixed defect    1  \n",
      "918   140.0  False      0.5         flat  0.0             normal    0  \n",
      "919    93.0   True      0.0         flat  0.0             normal    1  \n",
      "\n",
      "[920 rows x 14 columns]\n"
     ]
    }
   ],
   "source": [
    "# Transformation de la variable cible (num : 0 = aucune maladie, 1 = maladie présente)\n",
    "df['num'] = df['num'].apply(lambda x: 1 if x > 0 else 0)\n",
    "print(\"Aperçu du dataset après transformation :\")\n",
    "print(df)"
   ]
  },
  {
   "cell_type": "markdown",
   "metadata": {},
   "source": [
    "***<p style=\"color:#90EE90; font-style:italic; font-size:35px; text-decoration:underline;\">III. Traitement et Préparation pour le Modèle</p>***"
   ]
  },
  {
   "cell_type": "markdown",
   "metadata": {},
   "source": [
    "***<ul>***\n",
    "    ***<p style=\"font-style:italic;font-size:25px; text-decoration:underline;\">- Séparation des variables explicatives et cibles</p>***\n",
    "***</ul>***"
   ]
  },
  {
   "cell_type": "code",
   "execution_count": 6,
   "metadata": {},
   "outputs": [
    {
     "name": "stdout",
     "output_type": "stream",
     "text": [
      "   age     sex               cp  trestbps   chol    fbs         restecg  \\\n",
      "0   63    Male   typical angina     145.0  233.0   True  lv hypertrophy   \n",
      "1   67    Male     asymptomatic     160.0  286.0  False  lv hypertrophy   \n",
      "2   67    Male     asymptomatic     120.0  229.0  False  lv hypertrophy   \n",
      "3   37    Male      non-anginal     130.0  250.0  False          normal   \n",
      "4   41  Female  atypical angina     130.0  204.0  False  lv hypertrophy   \n",
      "\n",
      "   thalch  exang  oldpeak        slope   ca               thal  \n",
      "0   150.0  False      2.3  downsloping  0.0       fixed defect  \n",
      "1   108.0   True      1.5         flat  3.0             normal  \n",
      "2   129.0   True      2.6         flat  2.0  reversable defect  \n",
      "3   187.0  False      3.5  downsloping  0.0             normal  \n",
      "4   172.0  False      1.4    upsloping  0.0             normal  \n",
      "\n",
      "Cible\n",
      " 0      0\n",
      "1      1\n",
      "2      1\n",
      "3      0\n",
      "4      0\n",
      "      ..\n",
      "915    1\n",
      "916    0\n",
      "917    1\n",
      "918    0\n",
      "919    1\n",
      "Name: num, Length: 920, dtype: int64\n"
     ]
    }
   ],
   "source": [
    "## Séparation des variables explicatives et cibles\n",
    "X = df.drop(\"num\", axis=1)\n",
    "y = df[\"num\"]\n",
    "print(X.head())\n",
    "print(\"\\nCible\\n\",y)"
   ]
  },
  {
   "cell_type": "markdown",
   "metadata": {},
   "source": [
    "***<ul>***\n",
    "    ***<p style=\"font-style:italic;font-size:25px; text-decoration:underline;\">- Encodage des variables catégoriques</p>***\n",
    "***</ul>***"
   ]
  },
  {
   "cell_type": "code",
   "execution_count": 7,
   "metadata": {},
   "outputs": [
    {
     "name": "stdout",
     "output_type": "stream",
     "text": [
      "Valeur catégorique :\n",
      " ['sex', 'cp', 'restecg', 'thal', 'slope', 'exang', 'fbs']\n",
      "\n",
      "Valeur numeriques :\n",
      " ['age', 'trestbps', 'chol', 'thalch', 'oldpeak', 'ca']\n"
     ]
    }
   ],
   "source": [
    "categorical_features = ['sex', 'cp', 'restecg', 'thal', 'slope', 'exang', 'fbs']\n",
    "numeric_features = [col for col in X.columns if col not in categorical_features]\n",
    "print(\"Valeur catégorique :\\n\", categorical_features)\n",
    "print(\"\\nValeur numeriques :\\n\", numeric_features)"
   ]
  },
  {
   "cell_type": "markdown",
   "metadata": {},
   "source": [
    "***<ul>***\n",
    "    ***<p style=\"font-style:italic;font-size:25px; text-decoration:underline;\">- Standardisation des variables numériques</p>***\n",
    "***</ul>***"
   ]
  },
  {
   "cell_type": "code",
   "execution_count": 8,
   "metadata": {},
   "outputs": [
    {
     "name": "stdout",
     "output_type": "stream",
     "text": [
      "     age     sex               cp  trestbps   chol    fbs           restecg  \\\n",
      "0     63    Male   typical angina     145.0  233.0   True    lv hypertrophy   \n",
      "1     67    Male     asymptomatic     160.0  286.0  False    lv hypertrophy   \n",
      "2     67    Male     asymptomatic     120.0  229.0  False    lv hypertrophy   \n",
      "3     37    Male      non-anginal     130.0  250.0  False            normal   \n",
      "4     41  Female  atypical angina     130.0  204.0  False    lv hypertrophy   \n",
      "..   ...     ...              ...       ...    ...    ...               ...   \n",
      "915   54  Female     asymptomatic     127.0  333.0   True  st-t abnormality   \n",
      "916   62    Male   typical angina     130.0  139.0  False  st-t abnormality   \n",
      "917   55    Male     asymptomatic     122.0  223.0   True  st-t abnormality   \n",
      "918   58    Male     asymptomatic     130.0  385.0   True    lv hypertrophy   \n",
      "919   62    Male  atypical angina     120.0  254.0  False    lv hypertrophy   \n",
      "\n",
      "     thalch  exang  oldpeak        slope   ca               thal  num  \n",
      "0     150.0  False      2.3  downsloping  0.0       fixed defect    0  \n",
      "1     108.0   True      1.5         flat  3.0             normal    1  \n",
      "2     129.0   True      2.6         flat  2.0  reversable defect    1  \n",
      "3     187.0  False      3.5  downsloping  0.0             normal    0  \n",
      "4     172.0  False      1.4    upsloping  0.0             normal    0  \n",
      "..      ...    ...      ...          ...  ...                ...  ...  \n",
      "915   154.0  False      0.0         flat  0.0             normal    1  \n",
      "916   140.0  False      0.5         flat  0.0             normal    0  \n",
      "917   100.0  False      0.0         flat  0.0       fixed defect    1  \n",
      "918   140.0  False      0.5         flat  0.0             normal    0  \n",
      "919    93.0   True      0.0         flat  0.0             normal    1  \n",
      "\n",
      "[920 rows x 14 columns]\n"
     ]
    }
   ],
   "source": [
    "## Standardisation des variables numériques\n",
    "preprocessor = ColumnTransformer([\n",
    "    ('num', StandardScaler(), numeric_features),\n",
    "    ('cat', OneHotEncoder(), categorical_features)\n",
    "])\n",
    "print(df)"
   ]
  },
  {
   "cell_type": "markdown",
   "metadata": {},
   "source": [
    "***<ul>***\n",
    "    ***<p style=\"font-style:italic;font-size:25px; text-decoration:underline;\">- Division en ensemble d'entraînement et de test</p>***\n",
    "***</ul>***"
   ]
  },
  {
   "cell_type": "code",
   "execution_count": 10,
   "metadata": {},
   "outputs": [
    {
     "name": "stdout",
     "output_type": "stream",
     "text": [
      "     age     sex               cp  trestbps   chol    fbs         restecg  \\\n",
      "319   36    Male  atypical angina     120.0  166.0  False          normal   \n",
      "377   45    Male  atypical angina     140.0  224.0   True          normal   \n",
      "538   48    Male     asymptomatic     160.0  329.0  False          normal   \n",
      "296   59    Male     asymptomatic     164.0  176.0   True  lv hypertrophy   \n",
      "531   40  Female     asymptomatic     150.0  392.0  False          normal   \n",
      "..   ...     ...              ...       ...    ...    ...             ...   \n",
      "382   46    Male  atypical angina     140.0  275.0  False          normal   \n",
      "97    60  Female     asymptomatic     150.0  258.0  False  lv hypertrophy   \n",
      "906   61    Male      non-anginal     120.0  337.0  False          normal   \n",
      "467   55    Male     asymptomatic     120.0  270.0  False          normal   \n",
      "732   62    Male     asymptomatic     110.0    0.0  False          normal   \n",
      "\n",
      "     thalch  exang  oldpeak slope   ca               thal  \n",
      "319   180.0  False      0.0  flat  0.0             normal  \n",
      "377   122.0  False      0.0  flat  0.0             normal  \n",
      "538    92.0   True      1.5  flat  0.0             normal  \n",
      "296    90.0  False      1.0  flat  2.0       fixed defect  \n",
      "531   130.0  False      2.0  flat  0.0       fixed defect  \n",
      "..      ...    ...      ...   ...  ...                ...  \n",
      "382   165.0   True      0.0  flat  0.0             normal  \n",
      "97    157.0  False      2.6  flat  2.0  reversable defect  \n",
      "906    98.0   True      0.0  flat  0.0             normal  \n",
      "467   140.0  False      0.0  flat  0.0             normal  \n",
      "732   120.0   True      0.5  flat  0.0             normal  \n",
      "\n",
      "[184 rows x 13 columns] 319    0\n",
      "377    0\n",
      "538    1\n",
      "296    1\n",
      "531    1\n",
      "      ..\n",
      "382    0\n",
      "97     1\n",
      "906    1\n",
      "467    0\n",
      "732    1\n",
      "Name: num, Length: 184, dtype: int64\n"
     ]
    }
   ],
   "source": [
    "X_train, X_test, y_train, y_test = train_test_split(X, y, test_size=0.2, random_state=42)\n",
    "print(X_test, y_test)"
   ]
  },
  {
   "cell_type": "markdown",
   "metadata": {},
   "source": [
    "***<p style=\"color:#90EE90; font-style:italic; font-size:35px; text-decoration:underline;\">IV. Construction et Entraînement du modèle</p>***"
   ]
  },
  {
   "cell_type": "markdown",
   "metadata": {},
   "source": [
    "***<ul>***\n",
    "    ***<p style=\"font-style:italic;font-size:25px; text-decoration:underline;\">- Entrainement sur plusieurs modèles</p>***\n",
    "***</ul>***"
   ]
  },
  {
   "cell_type": "code",
   "execution_count": 1,
   "metadata": {},
   "outputs": [
    {
     "ename": "NameError",
     "evalue": "name 'LogisticRegression' is not defined",
     "output_type": "error",
     "traceback": [
      "\u001b[1;31m---------------------------------------------------------------------------\u001b[0m",
      "\u001b[1;31mNameError\u001b[0m                                 Traceback (most recent call last)",
      "Cell \u001b[1;32mIn[1], line 3\u001b[0m\n\u001b[0;32m      1\u001b[0m \u001b[38;5;66;03m# Liste des modèles à tester\u001b[39;00m\n\u001b[0;32m      2\u001b[0m models \u001b[38;5;241m=\u001b[39m {\n\u001b[1;32m----> 3\u001b[0m     \u001b[38;5;124m\"\u001b[39m\u001b[38;5;124mLogistic Regression\u001b[39m\u001b[38;5;124m\"\u001b[39m: \u001b[43mLogisticRegression\u001b[49m(),\n\u001b[0;32m      4\u001b[0m     \u001b[38;5;124m\"\u001b[39m\u001b[38;5;124mRandom Forest\u001b[39m\u001b[38;5;124m\"\u001b[39m: RandomForestClassifier(n_estimators\u001b[38;5;241m=\u001b[39m\u001b[38;5;241m100\u001b[39m, random_state\u001b[38;5;241m=\u001b[39m\u001b[38;5;241m42\u001b[39m),\n\u001b[0;32m      5\u001b[0m     \u001b[38;5;124m\"\u001b[39m\u001b[38;5;124mSupport Vector Machine\u001b[39m\u001b[38;5;124m\"\u001b[39m: SVC(kernel\u001b[38;5;241m=\u001b[39m\u001b[38;5;124m'\u001b[39m\u001b[38;5;124mlinear\u001b[39m\u001b[38;5;124m'\u001b[39m, probability\u001b[38;5;241m=\u001b[39m\u001b[38;5;28;01mTrue\u001b[39;00m),\n\u001b[0;32m      6\u001b[0m     \u001b[38;5;124m\"\u001b[39m\u001b[38;5;124mK-Nearest Neighbors\u001b[39m\u001b[38;5;124m\"\u001b[39m: KNeighborsClassifier(n_neighbors\u001b[38;5;241m=\u001b[39m\u001b[38;5;241m5\u001b[39m),\n\u001b[0;32m      7\u001b[0m }\n\u001b[0;32m      9\u001b[0m \u001b[38;5;66;03m#Entrainement et évaluation des modèles\u001b[39;00m\n\u001b[0;32m     10\u001b[0m results \u001b[38;5;241m=\u001b[39m {}\n",
      "\u001b[1;31mNameError\u001b[0m: name 'LogisticRegression' is not defined"
     ]
    }
   ],
   "source": [
    "# Liste des modèles à tester\n",
    "models = {\n",
    "    \"Logistic Regression\": LogisticRegression(),\n",
    "    \"Random Forest\": RandomForestClassifier(n_estimators=100, random_state=42),\n",
    "    \"Support Vector Machine\": SVC(kernel='linear', probability=True),\n",
    "    \"K-Nearest Neighbors\": KNeighborsClassifier(n_neighbors=5),\n",
    "}\n",
    "\n",
    "#Entrainement et évaluation des modèles\n",
    "results = {}\n",
    "for nom, modele in models.items():\n",
    "    pipeline = Pipeline([\n",
    "        ('preprocessor', preprocessor),\n",
    "        ('classifier', modele)\n",
    "    ])\n",
    "    \n",
    "    pipeline.fit(X_train, y_train)\n",
    "    y_pred = pipeline.predict(X_train)\n",
    "    \n",
    "    accuracy = accuracy_score(y_train, y_pred)\n",
    "    results[nom] = accuracy\n",
    "    \n",
    "    print(f\"🔹 {nom}:\")\n",
    "    print(f\"   ➡️ Accuracy(Taux de classification correcte): {accuracy:.4f}\")\n",
    "    print(f\"   ➡️ Résumé des résultats de chaque modèle:\\n{classification_report(y_train, y_pred)}\")\n",
    "    print(\"-\" * 50)\n",
    "    "
   ]
  },
  {
   "cell_type": "markdown",
   "metadata": {},
   "source": [
    "***<ul>***\n",
    "    ***<p style=\"font-style:italic;font-size:25px; text-decoration:underline;\">- Choix du modèle</p>***\n",
    "***</ul>***"
   ]
  },
  {
   "cell_type": "code",
   "execution_count": 55,
   "metadata": {},
   "outputs": [],
   "source": [
    "## Optimisation des hyperparamètres avec GridSearchCV\n",
    "param_grid = {\n",
    "    'classifier__n_estimators': [100, 200, 300],\n",
    "    'classifier__max_depth': [None, 10, 20],\n",
    "    'classifier__min_samples_split': [2, 5, 10],\n",
    "    'classifier__min_samples_leaf': [1, 2, 4]\n",
    "}\n",
    "\n",
    "## Création du pipeline\n",
    "model = Pipeline([\n",
    "    ('preprocessor', preprocessor),\n",
    "    ('classifier', RandomForestClassifier(n_estimators=500, random_state=42))\n",
    "])"
   ]
  },
  {
   "cell_type": "markdown",
   "metadata": {},
   "source": [
    "***<ul>***\n",
    "    ***<p style=\"font-style:italic;font-size:25px; text-decoration:underline;\">- Entraînement du modèle</p>***\n",
    "***</ul>***"
   ]
  },
  {
   "cell_type": "code",
   "execution_count": 56,
   "metadata": {},
   "outputs": [
    {
     "name": "stdout",
     "output_type": "stream",
     "text": [
      "Fitting 5 folds for each of 81 candidates, totalling 405 fits\n"
     ]
    },
    {
     "data": {
      "text/html": [
       "<style>#sk-container-id-1 {\n",
       "  /* Definition of color scheme common for light and dark mode */\n",
       "  --sklearn-color-text: black;\n",
       "  --sklearn-color-line: gray;\n",
       "  /* Definition of color scheme for unfitted estimators */\n",
       "  --sklearn-color-unfitted-level-0: #fff5e6;\n",
       "  --sklearn-color-unfitted-level-1: #f6e4d2;\n",
       "  --sklearn-color-unfitted-level-2: #ffe0b3;\n",
       "  --sklearn-color-unfitted-level-3: chocolate;\n",
       "  /* Definition of color scheme for fitted estimators */\n",
       "  --sklearn-color-fitted-level-0: #f0f8ff;\n",
       "  --sklearn-color-fitted-level-1: #d4ebff;\n",
       "  --sklearn-color-fitted-level-2: #b3dbfd;\n",
       "  --sklearn-color-fitted-level-3: cornflowerblue;\n",
       "\n",
       "  /* Specific color for light theme */\n",
       "  --sklearn-color-text-on-default-background: var(--sg-text-color, var(--theme-code-foreground, var(--jp-content-font-color1, black)));\n",
       "  --sklearn-color-background: var(--sg-background-color, var(--theme-background, var(--jp-layout-color0, white)));\n",
       "  --sklearn-color-border-box: var(--sg-text-color, var(--theme-code-foreground, var(--jp-content-font-color1, black)));\n",
       "  --sklearn-color-icon: #696969;\n",
       "\n",
       "  @media (prefers-color-scheme: dark) {\n",
       "    /* Redefinition of color scheme for dark theme */\n",
       "    --sklearn-color-text-on-default-background: var(--sg-text-color, var(--theme-code-foreground, var(--jp-content-font-color1, white)));\n",
       "    --sklearn-color-background: var(--sg-background-color, var(--theme-background, var(--jp-layout-color0, #111)));\n",
       "    --sklearn-color-border-box: var(--sg-text-color, var(--theme-code-foreground, var(--jp-content-font-color1, white)));\n",
       "    --sklearn-color-icon: #878787;\n",
       "  }\n",
       "}\n",
       "\n",
       "#sk-container-id-1 {\n",
       "  color: var(--sklearn-color-text);\n",
       "}\n",
       "\n",
       "#sk-container-id-1 pre {\n",
       "  padding: 0;\n",
       "}\n",
       "\n",
       "#sk-container-id-1 input.sk-hidden--visually {\n",
       "  border: 0;\n",
       "  clip: rect(1px 1px 1px 1px);\n",
       "  clip: rect(1px, 1px, 1px, 1px);\n",
       "  height: 1px;\n",
       "  margin: -1px;\n",
       "  overflow: hidden;\n",
       "  padding: 0;\n",
       "  position: absolute;\n",
       "  width: 1px;\n",
       "}\n",
       "\n",
       "#sk-container-id-1 div.sk-dashed-wrapped {\n",
       "  border: 1px dashed var(--sklearn-color-line);\n",
       "  margin: 0 0.4em 0.5em 0.4em;\n",
       "  box-sizing: border-box;\n",
       "  padding-bottom: 0.4em;\n",
       "  background-color: var(--sklearn-color-background);\n",
       "}\n",
       "\n",
       "#sk-container-id-1 div.sk-container {\n",
       "  /* jupyter's `normalize.less` sets `[hidden] { display: none; }`\n",
       "     but bootstrap.min.css set `[hidden] { display: none !important; }`\n",
       "     so we also need the `!important` here to be able to override the\n",
       "     default hidden behavior on the sphinx rendered scikit-learn.org.\n",
       "     See: https://github.com/scikit-learn/scikit-learn/issues/21755 */\n",
       "  display: inline-block !important;\n",
       "  position: relative;\n",
       "}\n",
       "\n",
       "#sk-container-id-1 div.sk-text-repr-fallback {\n",
       "  display: none;\n",
       "}\n",
       "\n",
       "div.sk-parallel-item,\n",
       "div.sk-serial,\n",
       "div.sk-item {\n",
       "  /* draw centered vertical line to link estimators */\n",
       "  background-image: linear-gradient(var(--sklearn-color-text-on-default-background), var(--sklearn-color-text-on-default-background));\n",
       "  background-size: 2px 100%;\n",
       "  background-repeat: no-repeat;\n",
       "  background-position: center center;\n",
       "}\n",
       "\n",
       "/* Parallel-specific style estimator block */\n",
       "\n",
       "#sk-container-id-1 div.sk-parallel-item::after {\n",
       "  content: \"\";\n",
       "  width: 100%;\n",
       "  border-bottom: 2px solid var(--sklearn-color-text-on-default-background);\n",
       "  flex-grow: 1;\n",
       "}\n",
       "\n",
       "#sk-container-id-1 div.sk-parallel {\n",
       "  display: flex;\n",
       "  align-items: stretch;\n",
       "  justify-content: center;\n",
       "  background-color: var(--sklearn-color-background);\n",
       "  position: relative;\n",
       "}\n",
       "\n",
       "#sk-container-id-1 div.sk-parallel-item {\n",
       "  display: flex;\n",
       "  flex-direction: column;\n",
       "}\n",
       "\n",
       "#sk-container-id-1 div.sk-parallel-item:first-child::after {\n",
       "  align-self: flex-end;\n",
       "  width: 50%;\n",
       "}\n",
       "\n",
       "#sk-container-id-1 div.sk-parallel-item:last-child::after {\n",
       "  align-self: flex-start;\n",
       "  width: 50%;\n",
       "}\n",
       "\n",
       "#sk-container-id-1 div.sk-parallel-item:only-child::after {\n",
       "  width: 0;\n",
       "}\n",
       "\n",
       "/* Serial-specific style estimator block */\n",
       "\n",
       "#sk-container-id-1 div.sk-serial {\n",
       "  display: flex;\n",
       "  flex-direction: column;\n",
       "  align-items: center;\n",
       "  background-color: var(--sklearn-color-background);\n",
       "  padding-right: 1em;\n",
       "  padding-left: 1em;\n",
       "}\n",
       "\n",
       "\n",
       "/* Toggleable style: style used for estimator/Pipeline/ColumnTransformer box that is\n",
       "clickable and can be expanded/collapsed.\n",
       "- Pipeline and ColumnTransformer use this feature and define the default style\n",
       "- Estimators will overwrite some part of the style using the `sk-estimator` class\n",
       "*/\n",
       "\n",
       "/* Pipeline and ColumnTransformer style (default) */\n",
       "\n",
       "#sk-container-id-1 div.sk-toggleable {\n",
       "  /* Default theme specific background. It is overwritten whether we have a\n",
       "  specific estimator or a Pipeline/ColumnTransformer */\n",
       "  background-color: var(--sklearn-color-background);\n",
       "}\n",
       "\n",
       "/* Toggleable label */\n",
       "#sk-container-id-1 label.sk-toggleable__label {\n",
       "  cursor: pointer;\n",
       "  display: block;\n",
       "  width: 100%;\n",
       "  margin-bottom: 0;\n",
       "  padding: 0.5em;\n",
       "  box-sizing: border-box;\n",
       "  text-align: center;\n",
       "}\n",
       "\n",
       "#sk-container-id-1 label.sk-toggleable__label-arrow:before {\n",
       "  /* Arrow on the left of the label */\n",
       "  content: \"▸\";\n",
       "  float: left;\n",
       "  margin-right: 0.25em;\n",
       "  color: var(--sklearn-color-icon);\n",
       "}\n",
       "\n",
       "#sk-container-id-1 label.sk-toggleable__label-arrow:hover:before {\n",
       "  color: var(--sklearn-color-text);\n",
       "}\n",
       "\n",
       "/* Toggleable content - dropdown */\n",
       "\n",
       "#sk-container-id-1 div.sk-toggleable__content {\n",
       "  max-height: 0;\n",
       "  max-width: 0;\n",
       "  overflow: hidden;\n",
       "  text-align: left;\n",
       "  /* unfitted */\n",
       "  background-color: var(--sklearn-color-unfitted-level-0);\n",
       "}\n",
       "\n",
       "#sk-container-id-1 div.sk-toggleable__content.fitted {\n",
       "  /* fitted */\n",
       "  background-color: var(--sklearn-color-fitted-level-0);\n",
       "}\n",
       "\n",
       "#sk-container-id-1 div.sk-toggleable__content pre {\n",
       "  margin: 0.2em;\n",
       "  border-radius: 0.25em;\n",
       "  color: var(--sklearn-color-text);\n",
       "  /* unfitted */\n",
       "  background-color: var(--sklearn-color-unfitted-level-0);\n",
       "}\n",
       "\n",
       "#sk-container-id-1 div.sk-toggleable__content.fitted pre {\n",
       "  /* unfitted */\n",
       "  background-color: var(--sklearn-color-fitted-level-0);\n",
       "}\n",
       "\n",
       "#sk-container-id-1 input.sk-toggleable__control:checked~div.sk-toggleable__content {\n",
       "  /* Expand drop-down */\n",
       "  max-height: 200px;\n",
       "  max-width: 100%;\n",
       "  overflow: auto;\n",
       "}\n",
       "\n",
       "#sk-container-id-1 input.sk-toggleable__control:checked~label.sk-toggleable__label-arrow:before {\n",
       "  content: \"▾\";\n",
       "}\n",
       "\n",
       "/* Pipeline/ColumnTransformer-specific style */\n",
       "\n",
       "#sk-container-id-1 div.sk-label input.sk-toggleable__control:checked~label.sk-toggleable__label {\n",
       "  color: var(--sklearn-color-text);\n",
       "  background-color: var(--sklearn-color-unfitted-level-2);\n",
       "}\n",
       "\n",
       "#sk-container-id-1 div.sk-label.fitted input.sk-toggleable__control:checked~label.sk-toggleable__label {\n",
       "  background-color: var(--sklearn-color-fitted-level-2);\n",
       "}\n",
       "\n",
       "/* Estimator-specific style */\n",
       "\n",
       "/* Colorize estimator box */\n",
       "#sk-container-id-1 div.sk-estimator input.sk-toggleable__control:checked~label.sk-toggleable__label {\n",
       "  /* unfitted */\n",
       "  background-color: var(--sklearn-color-unfitted-level-2);\n",
       "}\n",
       "\n",
       "#sk-container-id-1 div.sk-estimator.fitted input.sk-toggleable__control:checked~label.sk-toggleable__label {\n",
       "  /* fitted */\n",
       "  background-color: var(--sklearn-color-fitted-level-2);\n",
       "}\n",
       "\n",
       "#sk-container-id-1 div.sk-label label.sk-toggleable__label,\n",
       "#sk-container-id-1 div.sk-label label {\n",
       "  /* The background is the default theme color */\n",
       "  color: var(--sklearn-color-text-on-default-background);\n",
       "}\n",
       "\n",
       "/* On hover, darken the color of the background */\n",
       "#sk-container-id-1 div.sk-label:hover label.sk-toggleable__label {\n",
       "  color: var(--sklearn-color-text);\n",
       "  background-color: var(--sklearn-color-unfitted-level-2);\n",
       "}\n",
       "\n",
       "/* Label box, darken color on hover, fitted */\n",
       "#sk-container-id-1 div.sk-label.fitted:hover label.sk-toggleable__label.fitted {\n",
       "  color: var(--sklearn-color-text);\n",
       "  background-color: var(--sklearn-color-fitted-level-2);\n",
       "}\n",
       "\n",
       "/* Estimator label */\n",
       "\n",
       "#sk-container-id-1 div.sk-label label {\n",
       "  font-family: monospace;\n",
       "  font-weight: bold;\n",
       "  display: inline-block;\n",
       "  line-height: 1.2em;\n",
       "}\n",
       "\n",
       "#sk-container-id-1 div.sk-label-container {\n",
       "  text-align: center;\n",
       "}\n",
       "\n",
       "/* Estimator-specific */\n",
       "#sk-container-id-1 div.sk-estimator {\n",
       "  font-family: monospace;\n",
       "  border: 1px dotted var(--sklearn-color-border-box);\n",
       "  border-radius: 0.25em;\n",
       "  box-sizing: border-box;\n",
       "  margin-bottom: 0.5em;\n",
       "  /* unfitted */\n",
       "  background-color: var(--sklearn-color-unfitted-level-0);\n",
       "}\n",
       "\n",
       "#sk-container-id-1 div.sk-estimator.fitted {\n",
       "  /* fitted */\n",
       "  background-color: var(--sklearn-color-fitted-level-0);\n",
       "}\n",
       "\n",
       "/* on hover */\n",
       "#sk-container-id-1 div.sk-estimator:hover {\n",
       "  /* unfitted */\n",
       "  background-color: var(--sklearn-color-unfitted-level-2);\n",
       "}\n",
       "\n",
       "#sk-container-id-1 div.sk-estimator.fitted:hover {\n",
       "  /* fitted */\n",
       "  background-color: var(--sklearn-color-fitted-level-2);\n",
       "}\n",
       "\n",
       "/* Specification for estimator info (e.g. \"i\" and \"?\") */\n",
       "\n",
       "/* Common style for \"i\" and \"?\" */\n",
       "\n",
       ".sk-estimator-doc-link,\n",
       "a:link.sk-estimator-doc-link,\n",
       "a:visited.sk-estimator-doc-link {\n",
       "  float: right;\n",
       "  font-size: smaller;\n",
       "  line-height: 1em;\n",
       "  font-family: monospace;\n",
       "  background-color: var(--sklearn-color-background);\n",
       "  border-radius: 1em;\n",
       "  height: 1em;\n",
       "  width: 1em;\n",
       "  text-decoration: none !important;\n",
       "  margin-left: 1ex;\n",
       "  /* unfitted */\n",
       "  border: var(--sklearn-color-unfitted-level-1) 1pt solid;\n",
       "  color: var(--sklearn-color-unfitted-level-1);\n",
       "}\n",
       "\n",
       ".sk-estimator-doc-link.fitted,\n",
       "a:link.sk-estimator-doc-link.fitted,\n",
       "a:visited.sk-estimator-doc-link.fitted {\n",
       "  /* fitted */\n",
       "  border: var(--sklearn-color-fitted-level-1) 1pt solid;\n",
       "  color: var(--sklearn-color-fitted-level-1);\n",
       "}\n",
       "\n",
       "/* On hover */\n",
       "div.sk-estimator:hover .sk-estimator-doc-link:hover,\n",
       ".sk-estimator-doc-link:hover,\n",
       "div.sk-label-container:hover .sk-estimator-doc-link:hover,\n",
       ".sk-estimator-doc-link:hover {\n",
       "  /* unfitted */\n",
       "  background-color: var(--sklearn-color-unfitted-level-3);\n",
       "  color: var(--sklearn-color-background);\n",
       "  text-decoration: none;\n",
       "}\n",
       "\n",
       "div.sk-estimator.fitted:hover .sk-estimator-doc-link.fitted:hover,\n",
       ".sk-estimator-doc-link.fitted:hover,\n",
       "div.sk-label-container:hover .sk-estimator-doc-link.fitted:hover,\n",
       ".sk-estimator-doc-link.fitted:hover {\n",
       "  /* fitted */\n",
       "  background-color: var(--sklearn-color-fitted-level-3);\n",
       "  color: var(--sklearn-color-background);\n",
       "  text-decoration: none;\n",
       "}\n",
       "\n",
       "/* Span, style for the box shown on hovering the info icon */\n",
       ".sk-estimator-doc-link span {\n",
       "  display: none;\n",
       "  z-index: 9999;\n",
       "  position: relative;\n",
       "  font-weight: normal;\n",
       "  right: .2ex;\n",
       "  padding: .5ex;\n",
       "  margin: .5ex;\n",
       "  width: min-content;\n",
       "  min-width: 20ex;\n",
       "  max-width: 50ex;\n",
       "  color: var(--sklearn-color-text);\n",
       "  box-shadow: 2pt 2pt 4pt #999;\n",
       "  /* unfitted */\n",
       "  background: var(--sklearn-color-unfitted-level-0);\n",
       "  border: .5pt solid var(--sklearn-color-unfitted-level-3);\n",
       "}\n",
       "\n",
       ".sk-estimator-doc-link.fitted span {\n",
       "  /* fitted */\n",
       "  background: var(--sklearn-color-fitted-level-0);\n",
       "  border: var(--sklearn-color-fitted-level-3);\n",
       "}\n",
       "\n",
       ".sk-estimator-doc-link:hover span {\n",
       "  display: block;\n",
       "}\n",
       "\n",
       "/* \"?\"-specific style due to the `<a>` HTML tag */\n",
       "\n",
       "#sk-container-id-1 a.estimator_doc_link {\n",
       "  float: right;\n",
       "  font-size: 1rem;\n",
       "  line-height: 1em;\n",
       "  font-family: monospace;\n",
       "  background-color: var(--sklearn-color-background);\n",
       "  border-radius: 1rem;\n",
       "  height: 1rem;\n",
       "  width: 1rem;\n",
       "  text-decoration: none;\n",
       "  /* unfitted */\n",
       "  color: var(--sklearn-color-unfitted-level-1);\n",
       "  border: var(--sklearn-color-unfitted-level-1) 1pt solid;\n",
       "}\n",
       "\n",
       "#sk-container-id-1 a.estimator_doc_link.fitted {\n",
       "  /* fitted */\n",
       "  border: var(--sklearn-color-fitted-level-1) 1pt solid;\n",
       "  color: var(--sklearn-color-fitted-level-1);\n",
       "}\n",
       "\n",
       "/* On hover */\n",
       "#sk-container-id-1 a.estimator_doc_link:hover {\n",
       "  /* unfitted */\n",
       "  background-color: var(--sklearn-color-unfitted-level-3);\n",
       "  color: var(--sklearn-color-background);\n",
       "  text-decoration: none;\n",
       "}\n",
       "\n",
       "#sk-container-id-1 a.estimator_doc_link.fitted:hover {\n",
       "  /* fitted */\n",
       "  background-color: var(--sklearn-color-fitted-level-3);\n",
       "}\n",
       "</style><div id=\"sk-container-id-1\" class=\"sk-top-container\"><div class=\"sk-text-repr-fallback\"><pre>GridSearchCV(cv=5,\n",
       "             estimator=Pipeline(steps=[(&#x27;preprocessor&#x27;,\n",
       "                                        ColumnTransformer(transformers=[(&#x27;num&#x27;,\n",
       "                                                                         StandardScaler(),\n",
       "                                                                         [&#x27;age&#x27;,\n",
       "                                                                          &#x27;trestbps&#x27;,\n",
       "                                                                          &#x27;chol&#x27;,\n",
       "                                                                          &#x27;thalch&#x27;,\n",
       "                                                                          &#x27;oldpeak&#x27;,\n",
       "                                                                          &#x27;ca&#x27;]),\n",
       "                                                                        (&#x27;cat&#x27;,\n",
       "                                                                         OneHotEncoder(),\n",
       "                                                                         [&#x27;sex&#x27;,\n",
       "                                                                          &#x27;cp&#x27;,\n",
       "                                                                          &#x27;restecg&#x27;,\n",
       "                                                                          &#x27;thal&#x27;,\n",
       "                                                                          &#x27;slope&#x27;,\n",
       "                                                                          &#x27;exang&#x27;,\n",
       "                                                                          &#x27;fbs&#x27;])])),\n",
       "                                       (&#x27;classifier&#x27;,\n",
       "                                        RandomForestClassifier(n_estimators=500,\n",
       "                                                               random_state=42))]),\n",
       "             n_jobs=-1,\n",
       "             param_grid={&#x27;classifier__max_depth&#x27;: [None, 10, 20],\n",
       "                         &#x27;classifier__min_samples_leaf&#x27;: [1, 2, 4],\n",
       "                         &#x27;classifier__min_samples_split&#x27;: [2, 5, 10],\n",
       "                         &#x27;classifier__n_estimators&#x27;: [100, 200, 300]},\n",
       "             verbose=1)</pre><b>In a Jupyter environment, please rerun this cell to show the HTML representation or trust the notebook. <br />On GitHub, the HTML representation is unable to render, please try loading this page with nbviewer.org.</b></div><div class=\"sk-container\" hidden><div class=\"sk-item sk-dashed-wrapped\"><div class=\"sk-label-container\"><div class=\"sk-label fitted sk-toggleable\"><input class=\"sk-toggleable__control sk-hidden--visually\" id=\"sk-estimator-id-1\" type=\"checkbox\" ><label for=\"sk-estimator-id-1\" class=\"sk-toggleable__label fitted sk-toggleable__label-arrow fitted\">&nbsp;&nbsp;GridSearchCV<a class=\"sk-estimator-doc-link fitted\" rel=\"noreferrer\" target=\"_blank\" href=\"https://scikit-learn.org/1.5/modules/generated/sklearn.model_selection.GridSearchCV.html\">?<span>Documentation for GridSearchCV</span></a><span class=\"sk-estimator-doc-link fitted\">i<span>Fitted</span></span></label><div class=\"sk-toggleable__content fitted\"><pre>GridSearchCV(cv=5,\n",
       "             estimator=Pipeline(steps=[(&#x27;preprocessor&#x27;,\n",
       "                                        ColumnTransformer(transformers=[(&#x27;num&#x27;,\n",
       "                                                                         StandardScaler(),\n",
       "                                                                         [&#x27;age&#x27;,\n",
       "                                                                          &#x27;trestbps&#x27;,\n",
       "                                                                          &#x27;chol&#x27;,\n",
       "                                                                          &#x27;thalch&#x27;,\n",
       "                                                                          &#x27;oldpeak&#x27;,\n",
       "                                                                          &#x27;ca&#x27;]),\n",
       "                                                                        (&#x27;cat&#x27;,\n",
       "                                                                         OneHotEncoder(),\n",
       "                                                                         [&#x27;sex&#x27;,\n",
       "                                                                          &#x27;cp&#x27;,\n",
       "                                                                          &#x27;restecg&#x27;,\n",
       "                                                                          &#x27;thal&#x27;,\n",
       "                                                                          &#x27;slope&#x27;,\n",
       "                                                                          &#x27;exang&#x27;,\n",
       "                                                                          &#x27;fbs&#x27;])])),\n",
       "                                       (&#x27;classifier&#x27;,\n",
       "                                        RandomForestClassifier(n_estimators=500,\n",
       "                                                               random_state=42))]),\n",
       "             n_jobs=-1,\n",
       "             param_grid={&#x27;classifier__max_depth&#x27;: [None, 10, 20],\n",
       "                         &#x27;classifier__min_samples_leaf&#x27;: [1, 2, 4],\n",
       "                         &#x27;classifier__min_samples_split&#x27;: [2, 5, 10],\n",
       "                         &#x27;classifier__n_estimators&#x27;: [100, 200, 300]},\n",
       "             verbose=1)</pre></div> </div></div><div class=\"sk-parallel\"><div class=\"sk-parallel-item\"><div class=\"sk-item\"><div class=\"sk-label-container\"><div class=\"sk-label fitted sk-toggleable\"><input class=\"sk-toggleable__control sk-hidden--visually\" id=\"sk-estimator-id-2\" type=\"checkbox\" ><label for=\"sk-estimator-id-2\" class=\"sk-toggleable__label fitted sk-toggleable__label-arrow fitted\">best_estimator_: Pipeline</label><div class=\"sk-toggleable__content fitted\"><pre>Pipeline(steps=[(&#x27;preprocessor&#x27;,\n",
       "                 ColumnTransformer(transformers=[(&#x27;num&#x27;, StandardScaler(),\n",
       "                                                  [&#x27;age&#x27;, &#x27;trestbps&#x27;, &#x27;chol&#x27;,\n",
       "                                                   &#x27;thalch&#x27;, &#x27;oldpeak&#x27;, &#x27;ca&#x27;]),\n",
       "                                                 (&#x27;cat&#x27;, OneHotEncoder(),\n",
       "                                                  [&#x27;sex&#x27;, &#x27;cp&#x27;, &#x27;restecg&#x27;,\n",
       "                                                   &#x27;thal&#x27;, &#x27;slope&#x27;, &#x27;exang&#x27;,\n",
       "                                                   &#x27;fbs&#x27;])])),\n",
       "                (&#x27;classifier&#x27;,\n",
       "                 RandomForestClassifier(min_samples_split=10, n_estimators=200,\n",
       "                                        random_state=42))])</pre></div> </div></div><div class=\"sk-serial\"><div class=\"sk-item\"><div class=\"sk-serial\"><div class=\"sk-item sk-dashed-wrapped\"><div class=\"sk-label-container\"><div class=\"sk-label fitted sk-toggleable\"><input class=\"sk-toggleable__control sk-hidden--visually\" id=\"sk-estimator-id-3\" type=\"checkbox\" ><label for=\"sk-estimator-id-3\" class=\"sk-toggleable__label fitted sk-toggleable__label-arrow fitted\">&nbsp;preprocessor: ColumnTransformer<a class=\"sk-estimator-doc-link fitted\" rel=\"noreferrer\" target=\"_blank\" href=\"https://scikit-learn.org/1.5/modules/generated/sklearn.compose.ColumnTransformer.html\">?<span>Documentation for preprocessor: ColumnTransformer</span></a></label><div class=\"sk-toggleable__content fitted\"><pre>ColumnTransformer(transformers=[(&#x27;num&#x27;, StandardScaler(),\n",
       "                                 [&#x27;age&#x27;, &#x27;trestbps&#x27;, &#x27;chol&#x27;, &#x27;thalch&#x27;,\n",
       "                                  &#x27;oldpeak&#x27;, &#x27;ca&#x27;]),\n",
       "                                (&#x27;cat&#x27;, OneHotEncoder(),\n",
       "                                 [&#x27;sex&#x27;, &#x27;cp&#x27;, &#x27;restecg&#x27;, &#x27;thal&#x27;, &#x27;slope&#x27;,\n",
       "                                  &#x27;exang&#x27;, &#x27;fbs&#x27;])])</pre></div> </div></div><div class=\"sk-parallel\"><div class=\"sk-parallel-item\"><div class=\"sk-item\"><div class=\"sk-label-container\"><div class=\"sk-label fitted sk-toggleable\"><input class=\"sk-toggleable__control sk-hidden--visually\" id=\"sk-estimator-id-4\" type=\"checkbox\" ><label for=\"sk-estimator-id-4\" class=\"sk-toggleable__label fitted sk-toggleable__label-arrow fitted\">num</label><div class=\"sk-toggleable__content fitted\"><pre>[&#x27;age&#x27;, &#x27;trestbps&#x27;, &#x27;chol&#x27;, &#x27;thalch&#x27;, &#x27;oldpeak&#x27;, &#x27;ca&#x27;]</pre></div> </div></div><div class=\"sk-serial\"><div class=\"sk-item\"><div class=\"sk-estimator fitted sk-toggleable\"><input class=\"sk-toggleable__control sk-hidden--visually\" id=\"sk-estimator-id-5\" type=\"checkbox\" ><label for=\"sk-estimator-id-5\" class=\"sk-toggleable__label fitted sk-toggleable__label-arrow fitted\">&nbsp;StandardScaler<a class=\"sk-estimator-doc-link fitted\" rel=\"noreferrer\" target=\"_blank\" href=\"https://scikit-learn.org/1.5/modules/generated/sklearn.preprocessing.StandardScaler.html\">?<span>Documentation for StandardScaler</span></a></label><div class=\"sk-toggleable__content fitted\"><pre>StandardScaler()</pre></div> </div></div></div></div></div><div class=\"sk-parallel-item\"><div class=\"sk-item\"><div class=\"sk-label-container\"><div class=\"sk-label fitted sk-toggleable\"><input class=\"sk-toggleable__control sk-hidden--visually\" id=\"sk-estimator-id-6\" type=\"checkbox\" ><label for=\"sk-estimator-id-6\" class=\"sk-toggleable__label fitted sk-toggleable__label-arrow fitted\">cat</label><div class=\"sk-toggleable__content fitted\"><pre>[&#x27;sex&#x27;, &#x27;cp&#x27;, &#x27;restecg&#x27;, &#x27;thal&#x27;, &#x27;slope&#x27;, &#x27;exang&#x27;, &#x27;fbs&#x27;]</pre></div> </div></div><div class=\"sk-serial\"><div class=\"sk-item\"><div class=\"sk-estimator fitted sk-toggleable\"><input class=\"sk-toggleable__control sk-hidden--visually\" id=\"sk-estimator-id-7\" type=\"checkbox\" ><label for=\"sk-estimator-id-7\" class=\"sk-toggleable__label fitted sk-toggleable__label-arrow fitted\">&nbsp;OneHotEncoder<a class=\"sk-estimator-doc-link fitted\" rel=\"noreferrer\" target=\"_blank\" href=\"https://scikit-learn.org/1.5/modules/generated/sklearn.preprocessing.OneHotEncoder.html\">?<span>Documentation for OneHotEncoder</span></a></label><div class=\"sk-toggleable__content fitted\"><pre>OneHotEncoder()</pre></div> </div></div></div></div></div></div></div><div class=\"sk-item\"><div class=\"sk-estimator fitted sk-toggleable\"><input class=\"sk-toggleable__control sk-hidden--visually\" id=\"sk-estimator-id-8\" type=\"checkbox\" ><label for=\"sk-estimator-id-8\" class=\"sk-toggleable__label fitted sk-toggleable__label-arrow fitted\">&nbsp;RandomForestClassifier<a class=\"sk-estimator-doc-link fitted\" rel=\"noreferrer\" target=\"_blank\" href=\"https://scikit-learn.org/1.5/modules/generated/sklearn.ensemble.RandomForestClassifier.html\">?<span>Documentation for RandomForestClassifier</span></a></label><div class=\"sk-toggleable__content fitted\"><pre>RandomForestClassifier(min_samples_split=10, n_estimators=200, random_state=42)</pre></div> </div></div></div></div></div></div></div></div></div></div></div>"
      ],
      "text/plain": [
       "GridSearchCV(cv=5,\n",
       "             estimator=Pipeline(steps=[('preprocessor',\n",
       "                                        ColumnTransformer(transformers=[('num',\n",
       "                                                                         StandardScaler(),\n",
       "                                                                         ['age',\n",
       "                                                                          'trestbps',\n",
       "                                                                          'chol',\n",
       "                                                                          'thalch',\n",
       "                                                                          'oldpeak',\n",
       "                                                                          'ca']),\n",
       "                                                                        ('cat',\n",
       "                                                                         OneHotEncoder(),\n",
       "                                                                         ['sex',\n",
       "                                                                          'cp',\n",
       "                                                                          'restecg',\n",
       "                                                                          'thal',\n",
       "                                                                          'slope',\n",
       "                                                                          'exang',\n",
       "                                                                          'fbs'])])),\n",
       "                                       ('classifier',\n",
       "                                        RandomForestClassifier(n_estimators=500,\n",
       "                                                               random_state=42))]),\n",
       "             n_jobs=-1,\n",
       "             param_grid={'classifier__max_depth': [None, 10, 20],\n",
       "                         'classifier__min_samples_leaf': [1, 2, 4],\n",
       "                         'classifier__min_samples_split': [2, 5, 10],\n",
       "                         'classifier__n_estimators': [100, 200, 300]},\n",
       "             verbose=1)"
      ]
     },
     "execution_count": 56,
     "metadata": {},
     "output_type": "execute_result"
    }
   ],
   "source": [
    "## Recherche des meilleurs hyperparamètres\n",
    "grid_search = GridSearchCV(model, param_grid, cv=5, n_jobs=-1, verbose=1)\n",
    "grid_search.fit(X_train, y_train)"
   ]
  },
  {
   "cell_type": "code",
   "execution_count": 57,
   "metadata": {},
   "outputs": [
    {
     "name": "stdout",
     "output_type": "stream",
     "text": [
      "Pipeline(steps=[('preprocessor',\n",
      "                 ColumnTransformer(transformers=[('num', StandardScaler(),\n",
      "                                                  ['age', 'trestbps', 'chol',\n",
      "                                                   'thalch', 'oldpeak', 'ca']),\n",
      "                                                 ('cat', OneHotEncoder(),\n",
      "                                                  ['sex', 'cp', 'restecg',\n",
      "                                                   'thal', 'slope', 'exang',\n",
      "                                                   'fbs'])])),\n",
      "                ('classifier',\n",
      "                 RandomForestClassifier(min_samples_split=10, n_estimators=200,\n",
      "                                        random_state=42))])\n"
     ]
    }
   ],
   "source": [
    "## Meilleur modèle obtenu\n",
    "best_model = grid_search.best_estimator_\n",
    "print(best_model)"
   ]
  },
  {
   "cell_type": "markdown",
   "metadata": {},
   "source": [
    "***<ul>***\n",
    "    ***<p style=\"font-style:italic;font-size:25px; text-decoration:underline;\">- Prédictions</p>***\n",
    "***</ul>***"
   ]
  },
  {
   "cell_type": "code",
   "execution_count": 58,
   "metadata": {},
   "outputs": [
    {
     "name": "stdout",
     "output_type": "stream",
     "text": [
      "[0 0 1 1 1 0 0 1 1 0 1 1 1 1 1 0 0 0 1 1 0 0 1 1 1 1 1 0 0 0 0 0 0 1 0 1 0\n",
      " 0 1 1 1 0 1 0 1 1 1 1 1 0 1 0 0 1 0 1 1 0 1 1 0 0 1 1 0 1 0 1 1 1 1 0 1 0\n",
      " 1 0 0 1 0 0 0 1 0 1 1 1 1 1 1 1 1 1 0 1 0 1 0 1 0 0 1 1 1 1 0 0 1 0 1 0 1\n",
      " 1 1 0 1 0 1 0 1 0 0 1 0 1 1 0 1 0 1 0 0 0 0 0 1 0 0 1 1 0 1 1 1 1 1 1 1 1\n",
      " 0 1 1 1 1 0 0 0 1 1 1 0 1 1 1 0 0 1 0 1 0 1 1 0 0 0 0 1 0 1 1 0 1 1 1 1]\n"
     ]
    }
   ],
   "source": [
    "y_pred = best_model.predict(X_test)\n",
    "print(y_pred)"
   ]
  },
  {
   "cell_type": "markdown",
   "metadata": {},
   "source": [
    "***<p style=\"color:#90EE90; font-style:italic; font-size:35px; text-decoration:underline;\">V. Evaluation du modèle</p>***"
   ]
  },
  {
   "cell_type": "markdown",
   "metadata": {},
   "source": [
    "***<ul>***\n",
    "    ***<p style=\"font-style:italic;font-size:25px; text-decoration:underline;\">- Précision du modèle</p>***\n",
    "***</ul>***"
   ]
  },
  {
   "cell_type": "code",
   "execution_count": 59,
   "metadata": {},
   "outputs": [
    {
     "name": "stdout",
     "output_type": "stream",
     "text": [
      "Précision du modèle : 0.8315217391304348\n"
     ]
    }
   ],
   "source": [
    "print(\"Précision du modèle :\", accuracy_score(y_test, y_pred))"
   ]
  },
  {
   "cell_type": "markdown",
   "metadata": {},
   "source": [
    "***<ul>***\n",
    "    ***<p style=\"font-style:italic;font-size:25px; text-decoration:underline;\">- Rapport de classification</p>***\n",
    "***</ul>***"
   ]
  },
  {
   "cell_type": "code",
   "execution_count": 60,
   "metadata": {},
   "outputs": [
    {
     "name": "stdout",
     "output_type": "stream",
     "text": [
      "\n",
      "Rapport de classification :\n",
      "               precision    recall  f1-score   support\n",
      "\n",
      "           0       0.78      0.81      0.80        75\n",
      "           1       0.87      0.84      0.86       109\n",
      "\n",
      "    accuracy                           0.83       184\n",
      "   macro avg       0.82      0.83      0.83       184\n",
      "weighted avg       0.83      0.83      0.83       184\n",
      "\n"
     ]
    }
   ],
   "source": [
    "print(\"\\nRapport de classification :\\n\", classification_report(y_test, y_pred))"
   ]
  },
  {
   "cell_type": "markdown",
   "metadata": {},
   "source": [
    "***<ul>***\n",
    "    ***<p style=\"font-style:italic;font-size:25px; text-decoration:underline;\">- Rapport de classification</p>***\n",
    "***</ul>***"
   ]
  },
  {
   "cell_type": "code",
   "execution_count": 55,
   "metadata": {},
   "outputs": [
    {
     "data": {
      "image/png": "[encoded data removed]",
      "text/plain": [
       "<Figure size 600x400 with 2 Axes>"
      ]
     },
     "metadata": {},
     "output_type": "display_data"
    }
   ],
   "source": [
    "plt.figure(figsize=(6,4))\n",
    "sns.heatmap(confusion_matrix(y_test, y_pred), annot=True, fmt='d', cmap='Blues')\n",
    "plt.xlabel(\"Prédit\")\n",
    "plt.ylabel(\"Réel\")\n",
    "plt.title(\"Matrice de Confusion\")\n",
    "plt.show()"
   ]
  },
  {
   "cell_type": "code",
   "execution_count": 61,
   "metadata": {},
   "outputs": [
    {
     "name": "stdout",
     "output_type": "stream",
     "text": [
      "Importance des variables :\n",
      "               Feature  Importance\n",
      "8      cp_asymptomatic    0.147244\n",
      "2                 chol    0.118785\n",
      "4              oldpeak    0.112034\n",
      "3               thalch    0.101947\n",
      "0                  age    0.069502\n",
      "21         exang_False    0.054654\n",
      "1             trestbps    0.054126\n",
      "22          exang_True    0.052728\n",
      "9   cp_atypical angina    0.049287\n",
      "6           sex_Female    0.041187\n"
     ]
    }
   ],
   "source": [
    "## Analyser les attributs influents\n",
    "print(\"Importance des variables :\")\n",
    "feature_importances = best_model.named_steps['classifier'].feature_importances_\n",
    "feature_names = numeric_features + list(best_model.named_steps['preprocessor'].named_transformers_['cat'].get_feature_names_out())\n",
    "feature_importance_df = pd.DataFrame({'Feature': feature_names, 'Importance': feature_importances})\n",
    "feature_importance_df = feature_importance_df.sort_values(by='Importance', ascending=False)\n",
    "print(feature_importance_df.head(10))"
   ]
  }
 ],
 "metadata": {
  "kernelspec": {
   "display_name": "Python 3",
   "language": "python",
   "name": "python3"
  },
  "language_info": {
   "codemirror_mode": {
    "name": "ipython",
    "version": 3
   },
   "file_extension": ".py",
   "mimetype": "text/x-python",
   "name": "python",
   "nbconvert_exporter": "python",
   "pygments_lexer": "ipython3",
   "version": "3.12.6"
  }
 },
 "nbformat": 4,
 "nbformat_minor": 2
}
