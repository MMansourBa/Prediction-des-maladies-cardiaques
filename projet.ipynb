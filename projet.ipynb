{
 "cells": [
  {
   "cell_type": "markdown",
   "metadata": {},
   "source": [
    "***<p style=\"color:#90EE90; font-style:italic; font-size:35px; text-decoration:underline;\">PROJET MACHINE LEARNING : PREDICTION DES MALADIES CARDIAQUES (MSDA-IIA)***\n",
    "***</p>***"
   ]
  },
  {
   "cell_type": "markdown",
   "metadata": {},
   "source": [
    "***<p style=\"color:#90EE90; font-style:italic; font-size:30px; text-decoration:underline;\">Les Auteurs :</p>***\n",
    "***<p style=\"font-style:italic; font-size:17px;\">***\n",
    "***Ce projet a été réalisé par :</p>***\n",
    "\n",
    "***<p style=\"font-style:italic; font-size:20px;\">- Mouhamadou  Mansour BA</p>***\n",
    "***<p style=\"font-style:italic; font-size:20px;\">- Mame Peuya DIA</p>***\n"
   ]
  },
  {
   "cell_type": "markdown",
   "metadata": {},
   "source": [
    "***<p style=\"color:#90EE90; font-style:italic; font-size:30px; text-decoration:underline;\">PLAN :</p>***\n",
    "***<p style=\"color:#90EE90; font-style:italic; font-size:17px; text-decoration:underline;\">I. Présentation du projet</p>***\n",
    "***<ul>***\n",
    "    ***<p style=\"font-style:italic;\">Description</p>***\n",
    "    ***<p style=\"font-style:italic;\">Objectifs</p>***\n",
    "***</ul>***\n",
    "\n",
    "***<p style=\"color:#90EE90; font-style:italic; font-size:17px; text-decoration:underline;\">II. Exploration et Préparation des Données</p>***\n",
    "***<ul>***\n",
    "    ***<p style=\"font-style:italic;\">Chargement et aperçu des données</p>***\n",
    "    ***<p style=\"font-style:italic;\">Description des données</p>***\n",
    "    ***<p style=\"font-style:italic;\">Nettoyage des données</p>***\n",
    "    ***<p style=\"font-style:italic;\">Transformation de la cible variable</p>***\n",
    "***</ul>***\n",
    "\n",
    "***<p style=\"color:#90EE90; font-style:italic; font-size:17px; text-decoration:underline;\">III. Traitement et Préparation pour le Modèle</p>***\n",
    "***<ul>***\n",
    "    ***<p style=\"font-style:italic;\">Séparation des variables explicatives et cibles</p>***\n",
    "    ***<p style=\"font-style:italic;\">Encodage des variables catégoriques</p>***\n",
    "    ***<p style=\"font-style:italic;\">Standardisation des variables numériques</p>***\n",
    "    ***<p style=\"font-style:italic;\">Division en ensemble d'entraînement et de test</p>***\n",
    "***</ul>***\n",
    "\n",
    "***<p style=\"color:#90EE90; font-style:italic; font-size:17px; text-decoration:underline;\">IV. Construction et Entraînement du Modèle</p>***\n",
    "***<ul>***\n",
    "    ***<p style=\"font-style:italic;\">Choix du modèle</p>***\n",
    "    ***<p style=\"font-style:italic;\">Entraînement du modèle</p>***\n",
    "    ***<p style=\"font-style:italic;\">Prédictions</p>***\n",
    "***</ul>***\n",
    "\n",
    "***<p style=\"color:#90EE90; font-style:italic; font-size:17px; text-decoration:underline;\">V. Evaluation du modèle</p>***\n",
    "***<ul>***\n",
    "    ***<p style=\"font-style:italic;\">Précision du modèle</p>***\n",
    "    ***<p style=\"font-style:italic;\">Rapport de classification</p>***\n",
    "    ***<p style=\"font-style:italic;\">Matrice de confusion</p>***\n",
    "***</ul>***\n",
    "\n",
    "***<p style=\"color:#90EE90; font-style:italic; font-size:17px; text-decoration:underline;\">VI. Analyse et améliorations</p>***\n",
    "***<ul>***\n",
    "    ***<p style=\"font-style:italic;\">Analyser les attributs influents</p>***\n",
    "    ***<p style=\"font-style:italic;\">Essai d'autres modèles</p>***\n",
    "    ***<p style=\"font-style:italic;\">Ajustement des hyperparamètres</p>***\n",
    "***</ul>***\n",
    "\n",
    "***<p style=\"color:#90EE90; font-style:italic; font-size:17px; text-decoration:underline;\">VII. Conclusion</p>***\n",
    "***<ul>***\n",
    "    ***<p style=\"font-style:italic;\">Résumé des résultats</p>***\n",
    "    ***<p style=\"font-style:italic;\">Forces et faiblesses du modèle</p>***\n",
    "    ***<p style=\"font-style:italic;\">Perspectives d'amélioration</p>***\n",
    "***</ul>***\n",
    "<br><br>"
   ]
  },
  {
   "cell_type": "markdown",
   "metadata": {},
   "source": [
    "***<p style=\"color:#90EE90; font-style:italic; font-size:35px; text-decoration:underline;\">I. Présentation du projet</p>***"
   ]
  },
  {
   "cell_type": "markdown",
   "metadata": {},
   "source": [
    "***<ul>***\n",
    "    ***<p style=\"font-style:italic;font-size:25px; text-decoration:underline;\">- Description</p>***\n",
    "***</ul>***"
   ]
  },
  {
   "cell_type": "markdown",
   "metadata": {},
   "source": []
  },
  {
   "cell_type": "markdown",
   "metadata": {},
   "source": [
    "***<ul>***\n",
    "    ***<p style=\"font-style:italic;font-size:25px; text-decoration:underline;\">- Objectifs</p>***\n",
    "***</ul>***"
   ]
  },
  {
   "cell_type": "markdown",
   "metadata": {},
   "source": []
  },
  {
   "cell_type": "markdown",
   "metadata": {},
   "source": [
    "***<p style=\"color:#90EE90; font-style:italic; font-size:35px; text-decoration:underline;\">II. Exploration et Préparation des Données</p>***"
   ]
  },
  {
   "cell_type": "markdown",
   "metadata": {},
   "source": [
    "***<ul>***\n",
    "    ***<p style=\"font-style:italic;font-size:25px; text-decoration:underline;\">- Chargement et aperçu des données</p>***\n",
    "***</ul>***"
   ]
  },
  {
   "cell_type": "code",
   "execution_count": 36,
   "metadata": {},
   "outputs": [
    {
     "name": "stdout",
     "output_type": "stream",
     "text": [
      "   id  age     sex    dataset               cp  trestbps   chol    fbs  \\\n",
      "0   1   63    Male  Cleveland   typical angina     145.0  233.0   True   \n",
      "1   2   67    Male  Cleveland     asymptomatic     160.0  286.0  False   \n",
      "2   3   67    Male  Cleveland     asymptomatic     120.0  229.0  False   \n",
      "3   4   37    Male  Cleveland      non-anginal     130.0  250.0  False   \n",
      "4   5   41  Female  Cleveland  atypical angina     130.0  204.0  False   \n",
      "\n",
      "          restecg  thalch  exang  oldpeak        slope   ca  \\\n",
      "0  lv hypertrophy   150.0  False      2.3  downsloping  0.0   \n",
      "1  lv hypertrophy   108.0   True      1.5         flat  3.0   \n",
      "2  lv hypertrophy   129.0   True      2.6         flat  2.0   \n",
      "3          normal   187.0  False      3.5  downsloping  0.0   \n",
      "4  lv hypertrophy   172.0  False      1.4    upsloping  0.0   \n",
      "\n",
      "                thal  num  \n",
      "0       fixed defect    0  \n",
      "1             normal    2  \n",
      "2  reversable defect    1  \n",
      "3             normal    0  \n",
      "4             normal    0  \n",
      "\n",
      "Nombre de lignes et nombre de colonnes :  (920, 16)\n"
     ]
    }
   ],
   "source": [
    "# Importation des bibliotheques\n",
    "import pandas as pd\n",
    "import numpy as np\n",
    "import seaborn as sns\n",
    "import matplotlib.pyplot as plt\n",
    "from sklearn.model_selection import train_test_split\n",
    "from sklearn.preprocessing import StandardScaler, OneHotEncoder\n",
    "from sklearn.ensemble import RandomForestClassifier\n",
    "from sklearn.metrics import accuracy_score, classification_report, confusion_matrix\n",
    "from sklearn.compose import ColumnTransformer\n",
    "from sklearn.pipeline import Pipeline\n",
    "\n",
    "# Charger les données\n",
    "data = \"heart_disease_uci.csv\"\n",
    "df = pd.read_csv(data)\n",
    "\n",
    "# Aperçu des données\n",
    "print(df.head())\n",
    "print(\"\\nNombre de lignes et nombre de colonnes : \",df.shape)"
   ]
  },
  {
   "cell_type": "markdown",
   "metadata": {},
   "source": [
    "***<ul>***\n",
    "    ***<p style=\"font-style:italic;font-size:25px; text-decoration:underline;\">- Description des données</p>***\n",
    "***</ul>***"
   ]
  },
  {
   "cell_type": "code",
   "execution_count": 39,
   "metadata": {},
   "outputs": [
    {
     "name": "stdout",
     "output_type": "stream",
     "text": [
      "<class 'pandas.core.frame.DataFrame'>\n",
      "RangeIndex: 920 entries, 0 to 919\n",
      "Data columns (total 16 columns):\n",
      " #   Column    Non-Null Count  Dtype  \n",
      "---  ------    --------------  -----  \n",
      " 0   id        920 non-null    int64  \n",
      " 1   age       920 non-null    int64  \n",
      " 2   sex       920 non-null    object \n",
      " 3   dataset   920 non-null    object \n",
      " 4   cp        920 non-null    object \n",
      " 5   trestbps  861 non-null    float64\n",
      " 6   chol      890 non-null    float64\n",
      " 7   fbs       830 non-null    object \n",
      " 8   restecg   918 non-null    object \n",
      " 9   thalch    865 non-null    float64\n",
      " 10  exang     865 non-null    object \n",
      " 11  oldpeak   858 non-null    float64\n",
      " 12  slope     611 non-null    object \n",
      " 13  ca        309 non-null    float64\n",
      " 14  thal      434 non-null    object \n",
      " 15  num       920 non-null    int64  \n",
      "dtypes: float64(5), int64(3), object(8)\n",
      "memory usage: 115.1+ KB\n",
      "None\n",
      "Valeurs manquantes par colonne :\n",
      "id            0\n",
      "age           0\n",
      "sex           0\n",
      "dataset       0\n",
      "cp            0\n",
      "trestbps     59\n",
      "chol         30\n",
      "fbs          90\n",
      "restecg       2\n",
      "thalch       55\n",
      "exang        55\n",
      "oldpeak      62\n",
      "slope       309\n",
      "ca          611\n",
      "thal        486\n",
      "num           0\n",
      "dtype: int64\n"
     ]
    }
   ],
   "source": [
    "## Description des données\n",
    "print(df.info())\n",
    "print(\"Valeurs manquantes par colonne :\")\n",
    "print(df.isnull().sum())"
   ]
  },
  {
   "cell_type": "markdown",
   "metadata": {},
   "source": [
    "***<ul>***\n",
    "    ***<p style=\"font-style:italic;font-size:25px; text-decoration:underline;\">- Nettoyage des données</p>***\n",
    "***</ul>***"
   ]
  },
  {
   "cell_type": "code",
   "execution_count": 44,
   "metadata": {},
   "outputs": [
    {
     "name": "stdout",
     "output_type": "stream",
     "text": [
      "Nombre de lignes et de colonnes apres suprression :  (299, 14)\n"
     ]
    }
   ],
   "source": [
    "# Suppression des colonnes inutiles\n",
    "df = df.drop(columns=['id', 'dataset'], errors='ignore')\n",
    "# Suppression des lignes contenant des valeurs manquantes\n",
    "df = df.dropna()\n",
    "print(\"Nombre de lignes et de colonnes apres suprression : \",df.shape)"
   ]
  },
  {
   "cell_type": "markdown",
   "metadata": {},
   "source": [
    "***<ul>***\n",
    "    ***<p style=\"font-style:italic;font-size:25px; text-decoration:underline;\">- Transformation de la cible variable</p>***\n",
    "***</ul>***"
   ]
  },
  {
   "cell_type": "code",
   "execution_count": 47,
   "metadata": {},
   "outputs": [],
   "source": [
    "# Transformation de la variable cible (num : 0 = aucune maladie, 1 = maladie présente)\n",
    "df['num'] = df['num'].apply(lambda x: 1 if x > 0 else 0)"
   ]
  },
  {
   "cell_type": "markdown",
   "metadata": {},
   "source": [
    "***<p style=\"color:#90EE90; font-style:italic; font-size:35px; text-decoration:underline;\">III. Traitement et Préparation pour le Modèle</p>***"
   ]
  },
  {
   "cell_type": "markdown",
   "metadata": {},
   "source": [
    "***<ul>***\n",
    "    ***<p style=\"font-style:italic;font-size:25px; text-decoration:underline;\">- Séparation des variables explicatives et cibles</p>***\n",
    "***</ul>***"
   ]
  },
  {
   "cell_type": "code",
   "execution_count": 52,
   "metadata": {},
   "outputs": [
    {
     "name": "stdout",
     "output_type": "stream",
     "text": [
      "   age     sex               cp  trestbps   chol    fbs         restecg  \\\n",
      "0   63    Male   typical angina     145.0  233.0   True  lv hypertrophy   \n",
      "1   67    Male     asymptomatic     160.0  286.0  False  lv hypertrophy   \n",
      "2   67    Male     asymptomatic     120.0  229.0  False  lv hypertrophy   \n",
      "3   37    Male      non-anginal     130.0  250.0  False          normal   \n",
      "4   41  Female  atypical angina     130.0  204.0  False  lv hypertrophy   \n",
      "\n",
      "   thalch  exang  oldpeak        slope   ca               thal  \n",
      "0   150.0  False      2.3  downsloping  0.0       fixed defect  \n",
      "1   108.0   True      1.5         flat  3.0             normal  \n",
      "2   129.0   True      2.6         flat  2.0  reversable defect  \n",
      "3   187.0  False      3.5  downsloping  0.0             normal  \n",
      "4   172.0  False      1.4    upsloping  0.0             normal  \n",
      "\n",
      "Cible\n",
      " 0    0\n",
      "1    1\n",
      "2    1\n",
      "3    0\n",
      "4    0\n",
      "Name: num, dtype: int64\n"
     ]
    }
   ],
   "source": [
    "## Séparation des variables explicatives et cibles\n",
    "X = df.drop(\"num\", axis=1)\n",
    "y = df[\"num\"]\n",
    "print(X.head())\n",
    "print(\"\\nCible\\n\",y.head())"
   ]
  },
  {
   "cell_type": "markdown",
   "metadata": {},
   "source": [
    "***<ul>***\n",
    "    ***<p style=\"font-style:italic;font-size:25px; text-decoration:underline;\">- Encodage des variables catégoriques</p>***\n",
    "***</ul>***"
   ]
  },
  {
   "cell_type": "code",
   "execution_count": 56,
   "metadata": {},
   "outputs": [
    {
     "name": "stdout",
     "output_type": "stream",
     "text": [
      "['sex', 'cp', 'restecg', 'thal', 'slope', 'exang', 'fbs']\n",
      "\n",
      " ['age', 'trestbps', 'chol', 'thalch', 'oldpeak', 'ca']\n"
     ]
    }
   ],
   "source": [
    "categorical_features = ['sex', 'cp', 'restecg', 'thal', 'slope', 'exang', 'fbs']\n",
    "numeric_features = [col for col in X.columns if col not in categorical_features]\n",
    "print(categorical_features)\n",
    "print(\"\\n\",numeric_features)"
   ]
  },
  {
   "cell_type": "markdown",
   "metadata": {},
   "source": [
    "***<ul>***\n",
    "    ***<p style=\"font-style:italic;font-size:25px; text-decoration:underline;\">- Standardisation des variables numériques</p>***\n",
    "***</ul>***"
   ]
  },
  {
   "cell_type": "code",
   "execution_count": 57,
   "metadata": {},
   "outputs": [
    {
     "name": "stdout",
     "output_type": "stream",
     "text": [
      "ColumnTransformer(transformers=[('num', StandardScaler(),\n",
      "                                 ['age', 'trestbps', 'chol', 'thalch',\n",
      "                                  'oldpeak', 'ca']),\n",
      "                                ('cat', OneHotEncoder(),\n",
      "                                 ['sex', 'cp', 'restecg', 'thal', 'slope',\n",
      "                                  'exang', 'fbs'])])\n"
     ]
    }
   ],
   "source": [
    "## Standardisation des variables numériques\n",
    "preprocessor = ColumnTransformer([\n",
    "    ('num', StandardScaler(), numeric_features),\n",
    "    ('cat', OneHotEncoder(), categorical_features)\n",
    "])\n",
    "print(preprocessor)"
   ]
  },
  {
   "cell_type": "markdown",
   "metadata": {},
   "source": [
    "***<ul>***\n",
    "    ***<p style=\"font-style:italic;font-size:25px; text-decoration:underline;\">- Division en ensemble d'entraînement et de test</p>***\n",
    "***</ul>***"
   ]
  },
  {
   "cell_type": "code",
   "execution_count": 60,
   "metadata": {},
   "outputs": [
    {
     "name": "stdout",
     "output_type": "stream",
     "text": [
      "     age     sex               cp  trestbps   chol    fbs           restecg  \\\n",
      "285   58    Male     asymptomatic     114.0  318.0  False  st-t abnormality   \n",
      "269   42    Male      non-anginal     130.0  180.0  False            normal   \n",
      "165   57    Male     asymptomatic     132.0  207.0  False            normal   \n",
      "9     53    Male     asymptomatic     140.0  203.0   True    lv hypertrophy   \n",
      "77    51  Female      non-anginal     140.0  308.0  False    lv hypertrophy   \n",
      "282   55  Female     asymptomatic     128.0  205.0  False  st-t abnormality   \n",
      "94    63  Female      non-anginal     135.0  252.0  False    lv hypertrophy   \n",
      "110   61  Female     asymptomatic     145.0  307.0  False    lv hypertrophy   \n",
      "5     56    Male  atypical angina     120.0  236.0  False            normal   \n",
      "175   57    Male     asymptomatic     152.0  274.0  False            normal   \n",
      "98    52    Male  atypical angina     134.0  201.0  False            normal   \n",
      "198   50  Female  atypical angina     120.0  244.0  False            normal   \n",
      "186   42    Male      non-anginal     120.0  240.0   True            normal   \n",
      "155   70    Male     asymptomatic     130.0  322.0  False    lv hypertrophy   \n",
      "57    41    Male     asymptomatic     110.0  172.0  False    lv hypertrophy   \n",
      "60    51  Female     asymptomatic     130.0  305.0  False            normal   \n",
      "148   45    Male  atypical angina     128.0  308.0  False    lv hypertrophy   \n",
      "109   39    Male     asymptomatic     118.0  219.0  False            normal   \n",
      "63    54  Female      non-anginal     135.0  304.0   True            normal   \n",
      "141   59    Male   typical angina     170.0  288.0  False    lv hypertrophy   \n",
      "156   51    Male     asymptomatic     140.0  299.0  False            normal   \n",
      "105   54    Male  atypical angina     108.0  309.0  False            normal   \n",
      "250   57    Male     asymptomatic     110.0  201.0  False            normal   \n",
      "46    51    Male      non-anginal     110.0  175.0  False            normal   \n",
      "42    71  Female  atypical angina     160.0  302.0  False            normal   \n",
      "279   58  Female     asymptomatic     130.0  197.0  False            normal   \n",
      "284   61    Male     asymptomatic     148.0  203.0  False            normal   \n",
      "117   35  Female     asymptomatic     138.0  183.0  False            normal   \n",
      "216   46  Female  atypical angina     105.0  204.0  False            normal   \n",
      "239   42    Male  atypical angina     120.0  295.0  False            normal   \n",
      "17    54    Male     asymptomatic     140.0  239.0  False            normal   \n",
      "242   49  Female     asymptomatic     130.0  269.0  False            normal   \n",
      "33    59    Male     asymptomatic     135.0  234.0  False            normal   \n",
      "24    60    Male     asymptomatic     130.0  206.0  False    lv hypertrophy   \n",
      "45    58    Male      non-anginal     112.0  230.0  False    lv hypertrophy   \n",
      "7     57  Female     asymptomatic     120.0  354.0  False            normal   \n",
      "114   62  Female      non-anginal     130.0  263.0  False            normal   \n",
      "197   45  Female     asymptomatic     138.0  236.0  False    lv hypertrophy   \n",
      "112   52    Male   typical angina     118.0  186.0  False    lv hypertrophy   \n",
      "93    44  Female      non-anginal     108.0  141.0  False            normal   \n",
      "75    65  Female      non-anginal     160.0  360.0  False    lv hypertrophy   \n",
      "82    39    Male      non-anginal     140.0  321.0  False    lv hypertrophy   \n",
      "119   65    Male     asymptomatic     135.0  254.0  False    lv hypertrophy   \n",
      "76    60    Male     asymptomatic     125.0  258.0  False    lv hypertrophy   \n",
      "130   54    Male      non-anginal     120.0  258.0  False    lv hypertrophy   \n",
      "200   50  Female     asymptomatic     110.0  254.0  False    lv hypertrophy   \n",
      "213   66  Female     asymptomatic     178.0  228.0   True            normal   \n",
      "293   63    Male     asymptomatic     140.0  187.0  False    lv hypertrophy   \n",
      "222   39  Female      non-anginal      94.0  199.0  False            normal   \n",
      "180   48    Male     asymptomatic     124.0  274.0  False    lv hypertrophy   \n",
      "145   47    Male      non-anginal     108.0  243.0  False            normal   \n",
      "188   54    Male  atypical angina     192.0  283.0  False    lv hypertrophy   \n",
      "84    52    Male  atypical angina     120.0  325.0  False            normal   \n",
      "251   58    Male     asymptomatic     146.0  218.0  False            normal   \n",
      "281   47    Male      non-anginal     130.0  253.0  False            normal   \n",
      "73    65    Male     asymptomatic     110.0  248.0  False    lv hypertrophy   \n",
      "247   47    Male     asymptomatic     110.0  275.0  False    lv hypertrophy   \n",
      "25    50  Female      non-anginal     120.0  219.0  False            normal   \n",
      "212   41    Male      non-anginal     130.0  214.0  False    lv hypertrophy   \n",
      "59    51    Male   typical angina     125.0  213.0  False    lv hypertrophy   \n",
      "\n",
      "     thalch  exang  oldpeak        slope   ca               thal  \n",
      "285   140.0  False      4.4  downsloping  3.0       fixed defect  \n",
      "269   150.0  False      0.0    upsloping  0.0             normal  \n",
      "165   168.0   True      0.0    upsloping  0.0  reversable defect  \n",
      "9     155.0   True      3.1  downsloping  0.0  reversable defect  \n",
      "77    142.0  False      1.5    upsloping  1.0             normal  \n",
      "282   130.0   True      2.0         flat  1.0  reversable defect  \n",
      "94    172.0  False      0.0    upsloping  0.0             normal  \n",
      "110   146.0   True      1.0         flat  0.0  reversable defect  \n",
      "5     178.0  False      0.8    upsloping  0.0             normal  \n",
      "175    88.0   True      1.2         flat  1.0  reversable defect  \n",
      "98    158.0  False      0.8    upsloping  1.0             normal  \n",
      "198   162.0  False      1.1    upsloping  0.0             normal  \n",
      "186   194.0  False      0.8  downsloping  0.0  reversable defect  \n",
      "155   109.0  False      2.4         flat  3.0             normal  \n",
      "57    158.0  False      0.0    upsloping  0.0  reversable defect  \n",
      "60    142.0   True      1.2         flat  0.0  reversable defect  \n",
      "148   170.0  False      0.0    upsloping  0.0             normal  \n",
      "109   140.0  False      1.2         flat  0.0  reversable defect  \n",
      "63    170.0  False      0.0    upsloping  0.0             normal  \n",
      "141   159.0  False      0.2         flat  0.0  reversable defect  \n",
      "156   173.0   True      1.6    upsloping  0.0  reversable defect  \n",
      "105   156.0  False      0.0    upsloping  0.0  reversable defect  \n",
      "250   126.0   True      1.5         flat  0.0       fixed defect  \n",
      "46    123.0  False      0.6    upsloping  0.0             normal  \n",
      "42    162.0  False      0.4    upsloping  2.0             normal  \n",
      "279   131.0  False      0.6         flat  0.0             normal  \n",
      "284   161.0  False      0.0    upsloping  1.0  reversable defect  \n",
      "117   182.0  False      1.4    upsloping  0.0             normal  \n",
      "216   172.0  False      0.0    upsloping  0.0             normal  \n",
      "239   162.0  False      0.0    upsloping  0.0             normal  \n",
      "17    160.0  False      1.2    upsloping  0.0             normal  \n",
      "242   163.0  False      0.0    upsloping  0.0             normal  \n",
      "33    161.0  False      0.5         flat  0.0  reversable defect  \n",
      "24    132.0   True      2.4         flat  2.0  reversable defect  \n",
      "45    165.0  False      2.5         flat  1.0  reversable defect  \n",
      "7     163.0   True      0.6    upsloping  0.0             normal  \n",
      "114    97.0  False      1.2         flat  1.0  reversable defect  \n",
      "197   152.0   True      0.2         flat  0.0             normal  \n",
      "112   190.0  False      0.0         flat  0.0       fixed defect  \n",
      "93    175.0  False      0.6         flat  0.0             normal  \n",
      "75    151.0  False      0.8    upsloping  0.0             normal  \n",
      "82    182.0  False      0.0    upsloping  0.0             normal  \n",
      "119   127.0  False      2.8         flat  1.0  reversable defect  \n",
      "76    141.0   True      2.8         flat  1.0  reversable defect  \n",
      "130   147.0  False      0.4         flat  0.0  reversable defect  \n",
      "200   159.0  False      0.0    upsloping  0.0             normal  \n",
      "213   165.0   True      1.0         flat  2.0  reversable defect  \n",
      "293   144.0   True      4.0    upsloping  2.0  reversable defect  \n",
      "222   179.0  False      0.0    upsloping  0.0             normal  \n",
      "180   166.0  False      0.5         flat  0.0  reversable defect  \n",
      "145   152.0  False      0.0    upsloping  0.0             normal  \n",
      "188   195.0  False      0.0    upsloping  1.0  reversable defect  \n",
      "84    172.0  False      0.2    upsloping  0.0             normal  \n",
      "251   105.0  False      2.0         flat  1.0  reversable defect  \n",
      "281   179.0  False      0.0    upsloping  0.0             normal  \n",
      "73    158.0  False      0.6    upsloping  2.0       fixed defect  \n",
      "247   118.0   True      1.0         flat  1.0             normal  \n",
      "25    158.0  False      1.6         flat  0.0             normal  \n",
      "212   168.0  False      2.0         flat  0.0             normal  \n",
      "59    125.0   True      1.4    upsloping  1.0             normal   285    1\n",
      "269    0\n",
      "165    0\n",
      "9      1\n",
      "77     0\n",
      "282    1\n",
      "94     0\n",
      "110    1\n",
      "5      0\n",
      "175    1\n",
      "98     0\n",
      "198    0\n",
      "186    0\n",
      "155    1\n",
      "57     1\n",
      "60     1\n",
      "148    0\n",
      "109    1\n",
      "63     0\n",
      "141    1\n",
      "156    1\n",
      "105    0\n",
      "250    0\n",
      "46     0\n",
      "42     0\n",
      "279    0\n",
      "284    1\n",
      "117    0\n",
      "216    0\n",
      "239    0\n",
      "17     0\n",
      "242    0\n",
      "33     0\n",
      "24     1\n",
      "45     1\n",
      "7      0\n",
      "114    1\n",
      "197    0\n",
      "112    0\n",
      "93     0\n",
      "75     0\n",
      "82     0\n",
      "119    1\n",
      "76     1\n",
      "130    0\n",
      "200    0\n",
      "213    1\n",
      "293    1\n",
      "222    0\n",
      "180    1\n",
      "145    1\n",
      "188    1\n",
      "84     0\n",
      "251    1\n",
      "281    0\n",
      "73     1\n",
      "247    1\n",
      "25     0\n",
      "212    0\n",
      "59     0\n",
      "Name: num, dtype: int64\n"
     ]
    }
   ],
   "source": [
    "X_train, X_test, y_train, y_test = train_test_split(X, y, test_size=0.2, random_state=42)\n",
    "print(X_test, y_test)"
   ]
  }
 ],
 "metadata": {
  "kernelspec": {
   "display_name": "base",
   "language": "python",
   "name": "python3"
  },
  "language_info": {
   "codemirror_mode": {
    "name": "ipython",
    "version": 3
   },
   "file_extension": ".py",
   "mimetype": "text/x-python",
   "name": "python",
   "nbconvert_exporter": "python",
   "pygments_lexer": "ipython3",
   "version": "3.12.7"
  }
 },
 "nbformat": 4,
 "nbformat_minor": 2
}
